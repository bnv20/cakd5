{
 "cells": [
  {
   "cell_type": "code",
   "execution_count": 1,
   "id": "1168f62b",
   "metadata": {},
   "outputs": [
    {
     "name": "stdout",
     "output_type": "stream",
     "text": [
      "Hello Python\n"
     ]
    }
   ],
   "source": [
    "print(\"Hello Python\")"
   ]
  },
  {
   "cell_type": "markdown",
   "id": "e13b3f5a",
   "metadata": {},
   "source": [
    "## 파이썬 기초\n",
    "### 파이썬이란\n",
    "#### 파이썬의 특징\n",
    "- 1990년\n",
    "- 컴퓨터"
   ]
  },
  {
   "cell_type": "code",
   "execution_count": null,
   "id": "416b0066",
   "metadata": {},
   "outputs": [],
   "source": []
  }
 ],
 "metadata": {
  "kernelspec": {
   "display_name": "Python 3 (ipykernel)",
   "language": "python",
   "name": "python3"
  },
  "language_info": {
   "codemirror_mode": {
    "name": "ipython",
    "version": 3
   },
   "file_extension": ".py",
   "mimetype": "text/x-python",
   "name": "python",
   "nbconvert_exporter": "python",
   "pygments_lexer": "ipython3",
   "version": "3.8.12"
  }
 },
 "nbformat": 4,
 "nbformat_minor": 5
}
