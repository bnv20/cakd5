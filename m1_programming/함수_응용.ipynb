{
 "cells": [
  {
   "cell_type": "code",
   "execution_count": 1,
   "id": "d6bffd06",
   "metadata": {},
   "outputs": [
    {
     "data": {
      "text/plain": [
       "0.8877740440133421"
      ]
     },
     "execution_count": 1,
     "metadata": {},
     "output_type": "execute_result"
    }
   ],
   "source": [
    "# random은 난수를 발생시키는 모듈\n",
    "import random\n",
    "random.random() # 0.0에서 1.0 사이의 실수 중에서 난수값을 리턴"
   ]
  },
  {
   "cell_type": "code",
   "execution_count": 2,
   "id": "9c249b15",
   "metadata": {},
   "outputs": [
    {
     "data": {
      "text/plain": [
       "5.149208419304969"
      ]
     },
     "execution_count": 2,
     "metadata": {},
     "output_type": "execute_result"
    }
   ],
   "source": [
    "# 1.0 ~ 10.0 사이의 난수값\n",
    "random.random() * 10"
   ]
  },
  {
   "cell_type": "code",
   "execution_count": 6,
   "id": "82a50fad",
   "metadata": {},
   "outputs": [
    {
     "data": {
      "text/plain": [
       "[1, 5, 2, 3, 4]"
      ]
     },
     "execution_count": 6,
     "metadata": {},
     "output_type": "execute_result"
    }
   ],
   "source": [
    "# random.shuffle()\n",
    "data = [1,2,3,4,5]\n",
    "random.shuffle(data)\n",
    "data"
   ]
  },
  {
   "cell_type": "code",
   "execution_count": 8,
   "id": "d7639607",
   "metadata": {},
   "outputs": [
    {
     "data": {
      "text/plain": [
       "16"
      ]
     },
     "execution_count": 8,
     "metadata": {},
     "output_type": "execute_result"
    }
   ],
   "source": [
    "# 1 ~ 100사이의 임의 짝수를 출력\n",
    "random.randrange(2,101, 2)"
   ]
  },
  {
   "cell_type": "code",
   "execution_count": 9,
   "id": "e3ef373e",
   "metadata": {},
   "outputs": [
    {
     "data": {
      "text/plain": [
       "26"
      ]
     },
     "execution_count": 9,
     "metadata": {},
     "output_type": "execute_result"
    }
   ],
   "source": [
    "# 1 ~ 55 사이의 정수중에서 난수값를 리턴\n",
    "random.randint(1,55)"
   ]
  },
  {
   "cell_type": "code",
   "execution_count": 10,
   "id": "77b6d7b7",
   "metadata": {},
   "outputs": [
    {
     "data": {
      "text/plain": [
       "[1, 2, 9]"
      ]
     },
     "execution_count": 10,
     "metadata": {},
     "output_type": "execute_result"
    }
   ],
   "source": [
    "# [1,2,3,4,5,6,7,8,9]에서 임의로 3개 선택\n",
    "numlist = [1,2,3,4,5,6,7,8,9]\n",
    "random.sample(numlist,3)"
   ]
  },
  {
   "cell_type": "code",
   "execution_count": null,
   "id": "8a997f3b",
   "metadata": {},
   "outputs": [],
   "source": [
    "# Q. numbers 내부에 들어있는 숫자가 몇 번 등장하는지를 출력하는 코드를 작성하세요."
   ]
  },
  {
   "cell_type": "code",
   "execution_count": 11,
   "id": "5fcbc6c6",
   "metadata": {},
   "outputs": [
    {
     "name": "stdout",
     "output_type": "stream",
     "text": [
      "{0: '0개', 1: '0개', 2: '2개', 3: '4개', 4: '2개', 5: '2개', 6: '2개', 7: '2개', 8: '2개', 9: '2개'}\n"
     ]
    }
   ],
   "source": [
    "# 수정 보완 요\n",
    "numbers = [3,6,3,5,8,2,9,7,4,3,6,3,5,8,2,9,7,4]\n",
    "\n",
    "numdict = {}\n",
    "for i in range(10):\n",
    "    numcount = 0\n",
    "    for j in range(len(numbers)):\n",
    "        if  i == numbers[j]:\n",
    "            numcount +=1\n",
    "            \n",
    "    numdict[i] = f'{numcount}개'\n",
    "    \n",
    "print(numdict)\n"
   ]
  },
  {
   "cell_type": "code",
   "execution_count": 17,
   "id": "d7650542",
   "metadata": {},
   "outputs": [
    {
     "name": "stdout",
     "output_type": "stream",
     "text": [
      "{2: 2, 3: 4, 4: 2, 5: 2, 6: 2, 7: 2, 8: 2, 9: 2}\n"
     ]
    }
   ],
   "source": [
    "numbers = [3,6,3,5,8,2,9,7,4,3,6,3,5,8,2,9,7,4]\n",
    "dic_num={}\n",
    "for i in set(numbers):\n",
    "    dic_num[i] = numbers.count(i)\n",
    "print(dic_num)"
   ]
  },
  {
   "cell_type": "code",
   "execution_count": 20,
   "id": "bb38ca0a",
   "metadata": {},
   "outputs": [
    {
     "name": "stdout",
     "output_type": "stream",
     "text": [
      "{3: 4, 6: 2, 5: 2, 8: 2, 2: 2, 9: 2, 7: 2, 4: 2}\n"
     ]
    }
   ],
   "source": [
    "nums = [3,6,3,5,8,2,9,7,4,3,6,3,5,8,2,9,7,4]\n",
    "counter = {}\n",
    "for num in nums:\n",
    "    if num in counter:\n",
    "        counter[num] = counter[num] + 1\n",
    "    else:\n",
    "        counter[num] = 1\n",
    "print(counter)"
   ]
  },
  {
   "cell_type": "code",
   "execution_count": 21,
   "id": "0ae9dbaa",
   "metadata": {},
   "outputs": [
    {
     "name": "stdout",
     "output_type": "stream",
     "text": [
      "[6, 5, 4, 3, 2, 1, 0]\n",
      "[6, 5, 4, 3, 2, 1, 0]\n"
     ]
    }
   ],
   "source": [
    "# Q. list [0,1,2,3,4,5,6]을 내림차순으로 출력하세요(2가지 방법)\n",
    "s = [0,1,2,3,4,5,6]\n",
    "\n",
    "# 1번째 방법\n",
    "print(s[::-1])\n",
    "#2번째 방법\n",
    "list.reverse(s)\n",
    "print(s)"
   ]
  },
  {
   "cell_type": "code",
   "execution_count": 26,
   "id": "bc7fc4ef",
   "metadata": {},
   "outputs": [
    {
     "name": "stdout",
     "output_type": "stream",
     "text": [
      "1번째는 a입니다.\n",
      "2번째는 b입니다.\n",
      "3번째는 c입니다.\n"
     ]
    }
   ],
   "source": [
    "# Q. list = ['a','b','c']을 for문을 사용해서 아래와 같이 출력하세요\n",
    "# 1번째는 a입니다.\n",
    "# 2번째는 b입니다.\n",
    "# 3번째는 c입니다.\n",
    "\n",
    "li=['a','b','c']\n",
    "for i, value in enumerate(li):\n",
    "    print(f'{i+1}번째는 {value}입니다.')"
   ]
  },
  {
   "cell_type": "code",
   "execution_count": 2,
   "id": "3cfeb2df",
   "metadata": {},
   "outputs": [
    {
     "name": "stdout",
     "output_type": "stream",
     "text": [
      "[0, 4, 16, 36, 64, 100, 144, 196, 256, 324]\n"
     ]
    }
   ],
   "source": [
    "# Q. 코딩을 한줄로 작성해서 동일한 결과를 출력하세요.\n",
    "li= []\n",
    "for i in range(0,20,2):\n",
    "    li.append(i*i)\n",
    "print(li)"
   ]
  },
  {
   "cell_type": "code",
   "execution_count": 27,
   "id": "1c2e8b33",
   "metadata": {},
   "outputs": [
    {
     "name": "stdout",
     "output_type": "stream",
     "text": [
      "[0, 4, 16, 36, 64, 100, 144, 196, 256, 324]\n"
     ]
    }
   ],
   "source": [
    "print([x*x for x in range(0,20,2)])"
   ]
  },
  {
   "cell_type": "code",
   "execution_count": 3,
   "id": "fa0af993",
   "metadata": {},
   "outputs": [
    {
     "name": "stdout",
     "output_type": "stream",
     "text": [
      "[0, 4, 16, 36, 64, 100, 144, 196, 256, 324]\n"
     ]
    }
   ],
   "source": [
    "print(list(map(lambda i:i*i, range(0,20,2))))"
   ]
  },
  {
   "cell_type": "code",
   "execution_count": 4,
   "id": "54a13095",
   "metadata": {},
   "outputs": [
    {
     "data": {
      "text/plain": [
       "'a::b::c'"
      ]
     },
     "execution_count": 4,
     "metadata": {},
     "output_type": "execute_result"
    }
   ],
   "source": [
    "# Q. join 함수를 이용해서 ['a','b','c']를 아래와 같이 출력하세요.\n",
    "# a::b::c\n",
    "'::'.join(['a','b','c'])"
   ]
  },
  {
   "cell_type": "code",
   "execution_count": 12,
   "id": "5de178ce",
   "metadata": {},
   "outputs": [
    {
     "data": {
      "text/plain": [
       "(8, 2, 15, 2)"
      ]
     },
     "execution_count": 12,
     "metadata": {},
     "output_type": "execute_result"
    }
   ],
   "source": [
    "# Q. 두개의 숫자를 인자로 적용하면 4칙 연산을 수행하는 사용자 함수를 작성한 후 5, 3을 대입한 결과를 튜플로 출력하세요.(소수점 없음)\n",
    "def cal(a,b):\n",
    "    return a+b, a-b, a*b, round(a/b)\n",
    "#     return a+b\n",
    "cal(5,3)"
   ]
  },
  {
   "cell_type": "code",
   "execution_count": 8,
   "id": "7c5e3b22",
   "metadata": {},
   "outputs": [
    {
     "name": "stdout",
     "output_type": "stream",
     "text": [
      "5\n",
      "5\n",
      "3\n",
      "3\n",
      "\n"
     ]
    }
   ],
   "source": [
    "# Q. 데이터를 입력하지 않으면 종료되는 코딩을 수행하세요. 단 반복적으로 작업을 수행할 수 있음. \n",
    "while 1:\n",
    "    data = input()\n",
    "    if not data:\n",
    "        break\n",
    "    print(data)"
   ]
  },
  {
   "cell_type": "code",
   "execution_count": 10,
   "id": "c487b178",
   "metadata": {},
   "outputs": [
    {
     "name": "stdout",
     "output_type": "stream",
     "text": [
      "120\n",
      "3628800\n"
     ]
    }
   ],
   "source": [
    "def factorial(n):\n",
    "    output = 1\n",
    "    for i in range(1,n+1):\n",
    "        output *= i\n",
    "    return output\n",
    "print(factorial(5))\n",
    "print(factorial(10))    "
   ]
  },
  {
   "cell_type": "code",
   "execution_count": 17,
   "id": "bf7e70e5",
   "metadata": {},
   "outputs": [
    {
     "name": "stdout",
     "output_type": "stream",
     "text": [
      "1\n",
      "120\n",
      "3628800\n"
     ]
    }
   ],
   "source": [
    "# 재귀란 '자기자신을 호출하는 것'을 의미한다. \n",
    "# 재귀함수를 이용해서 팩토리얼을 구하는 사용자 함수를 작성하고 1!, 5!, 10!를 구하세요\n",
    "# factorial(n) = n * factorial(n-1) (n >= 1)\n",
    "\n",
    "def factorial(n):\n",
    "    if n == 0:\n",
    "        return 1\n",
    "    else:\n",
    "        return n * factorial(n - 1)\n",
    " \n",
    "print(factorial(1))\n",
    "print(factorial(5))\n",
    "print(factorial(10))"
   ]
  },
  {
   "cell_type": "code",
   "execution_count": null,
   "id": "dcabf904",
   "metadata": {},
   "outputs": [],
   "source": [
    "# Q. 원의 면적과 둘레의 길이를 구하는 사용자 함수를 작성하여 반지름이 5와 10일때의 면적과 둘레를 구하세요.\n",
    "원 넓이 : PI * radius * radius\n",
    "원 둘레 : 2 * PI * radius"
   ]
  },
  {
   "cell_type": "code",
   "execution_count": 20,
   "id": "de2e826c",
   "metadata": {},
   "outputs": [
    {
     "name": "stdout",
     "output_type": "stream",
     "text": [
      "(31.4, 78.5)\n"
     ]
    }
   ],
   "source": [
    "def cir(n):\n",
    "    l=round(3.14*2*n,2)\n",
    "    s=round(l*n/2,2)\n",
    "    return l,s\n",
    "print(cir(5))"
   ]
  },
  {
   "cell_type": "code",
   "execution_count": null,
   "id": "a730f986",
   "metadata": {},
   "outputs": [],
   "source": [
    "# Q. list a의 모든 원소를 실수형으로 바꾸어 출력하세요\n",
    "a = [1,2,3,4,5]"
   ]
  },
  {
   "cell_type": "code",
   "execution_count": 21,
   "id": "8ce3cf18",
   "metadata": {},
   "outputs": [
    {
     "name": "stdout",
     "output_type": "stream",
     "text": [
      "[1.0, 2.0, 3.0, 4.0, 5.0]\n"
     ]
    }
   ],
   "source": [
    "a = [1,2,3,4,5]\n",
    "for i in range(len(a)):\n",
    "    a[i] = float(a[i])\n",
    "\n",
    "print(a)"
   ]
  },
  {
   "cell_type": "code",
   "execution_count": 22,
   "id": "151bfd84",
   "metadata": {},
   "outputs": [
    {
     "data": {
      "text/plain": [
       "[1.0, 2.0, 3.0, 4.0, 5.0]"
      ]
     },
     "execution_count": 22,
     "metadata": {},
     "output_type": "execute_result"
    }
   ],
   "source": [
    "a = [1,2,3,4,5]\n",
    "a = list(map(float,a))\n",
    "a"
   ]
  },
  {
   "cell_type": "code",
   "execution_count": null,
   "id": "ca303e19",
   "metadata": {},
   "outputs": [],
   "source": [
    "# Q. 문자열 리스트 states를 정형화하여 아래와 같이 출력하세요.\n",
    "states = ['   Alabama ', 'Georgia!', 'Georgia', 'georgia', 'FlOrIda',\n",
    "          'south   carolina', 'West virginia']\n",
    "[출력]\n",
    "['Alabama',\n",
    " 'Georgia',\n",
    " 'Georgia',\n",
    " 'Georgia',\n",
    " 'Florida',\n",
    " 'South   Carolina',\n",
    " 'West Virginia']"
   ]
  },
  {
   "cell_type": "code",
   "execution_count": 24,
   "id": "33497ed9",
   "metadata": {},
   "outputs": [
    {
     "name": "stdout",
     "output_type": "stream",
     "text": [
      "Alabama\n",
      "Georgia!\n",
      "Georgia\n",
      "georgia\n",
      "FlOrIda\n",
      "south   carolina\n",
      "West virginia\n"
     ]
    }
   ],
   "source": [
    "# 수정 보완 요\n",
    "states = ['   Alabama ', 'Georgia!', 'Georgia', 'georgia', 'FlOrIda',\n",
    "          'south   carolina', 'West virginia']\n",
    "new_states = [i.strip() for i in states]\n",
    "print(*new_states, sep = '\\n')"
   ]
  },
  {
   "cell_type": "code",
   "execution_count": 25,
   "id": "c701a22a",
   "metadata": {},
   "outputs": [
    {
     "data": {
      "text/plain": [
       "['Alabama',\n",
       " 'Georgia!',\n",
       " 'Georgia',\n",
       " 'georgia',\n",
       " 'FlOrIda',\n",
       " 'south   carolina',\n",
       " 'West virginia']"
      ]
     },
     "execution_count": 25,
     "metadata": {},
     "output_type": "execute_result"
    }
   ],
   "source": [
    "states = ['   Alabama ', 'Georgia!', 'Georgia', 'georgia', 'FlOrIda',\n",
    "          'south   carolina', 'West virginia']\n",
    "def clean_strings(strings):\n",
    "    result = []\n",
    "    for value in strings:\n",
    "        value = value.strip()\n",
    "        result.append(value)\n",
    "    return result\n",
    "clean_strings(states)"
   ]
  },
  {
   "cell_type": "code",
   "execution_count": null,
   "id": "e1cac6b9",
   "metadata": {},
   "outputs": [],
   "source": [
    "# [도전과제] 문자열 리스트 states를 정형화하여 아래와 같이 출력하세요.\n",
    "states = ['   Alabama ', 'Georgia!', 'Georgia', 'georgia', 'FlOrIda',\n",
    "          'south   carolina##', 'West virginia?']\n",
    "[출력]\n",
    "['Alabama',\n",
    " 'Georgia',\n",
    " 'Georgia',\n",
    " 'Georgia',\n",
    " 'Florida',\n",
    " 'South   Carolina',\n",
    " 'West Virginia']"
   ]
  },
  {
   "cell_type": "code",
   "execution_count": null,
   "id": "171ead0c",
   "metadata": {},
   "outputs": [],
   "source": [
    "# Q. url에서 호스트 도메인을 추출하여 출력하세요.\n",
    "url = 'http://news.naver.com/main/read.nhn?mode=LSD&mid=shm&sid1=105&oid=028&aid=0002334601'\n"
   ]
  },
  {
   "cell_type": "code",
   "execution_count": null,
   "id": "0926f932",
   "metadata": {},
   "outputs": [],
   "source": [
    "# Q. url에서 쿼리문을 추출하여 출력하세요\n",
    "# ?뒤에 표시되는 문자열을 쿼리 문자열이라고 하며 변수=값 사이 &로 구분되어 나열된다.\n",
    "url = 'http://news.naver.com/main/read.nhn?mode=LSD&mid=shm&sid1=105&oid=028&aid=0002334601'"
   ]
  },
  {
   "cell_type": "code",
   "execution_count": null,
   "id": "9ce64d4c",
   "metadata": {},
   "outputs": [],
   "source": [
    "# [과제] 게시물의 총 건수와 한 페이지에 보여 줄 게시물 수를 입력시 총 페이지 수를 출력하는 프로그램을 작성하세요."
   ]
  },
  {
   "cell_type": "code",
   "execution_count": null,
   "id": "bf14d5e0",
   "metadata": {},
   "outputs": [],
   "source": [
    "# 랜덤하게 1000명의 키와 몸무개 만들기\n"
   ]
  }
 ],
 "metadata": {
  "kernelspec": {
   "display_name": "Python 3 (ipykernel)",
   "language": "python",
   "name": "python3"
  },
  "language_info": {
   "codemirror_mode": {
    "name": "ipython",
    "version": 3
   },
   "file_extension": ".py",
   "mimetype": "text/x-python",
   "name": "python",
   "nbconvert_exporter": "python",
   "pygments_lexer": "ipython3",
   "version": "3.8.12"
  }
 },
 "nbformat": 4,
 "nbformat_minor": 5
}
