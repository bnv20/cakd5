{
 "cells": [
  {
   "cell_type": "code",
   "execution_count": 1,
   "id": "d314a336",
   "metadata": {},
   "outputs": [],
   "source": [
    "import numpy as np"
   ]
  },
  {
   "cell_type": "code",
   "execution_count": 2,
   "id": "2a1cd650",
   "metadata": {},
   "outputs": [
    {
     "data": {
      "text/plain": [
       "array([[8, 9, 1, 7, 6],\n",
       "       [8, 4, 9, 7, 2],\n",
       "       [2, 6, 5, 9, 9],\n",
       "       [4, 3, 1, 6, 5],\n",
       "       [7, 2, 7, 9, 4]])"
      ]
     },
     "execution_count": 2,
     "metadata": {},
     "output_type": "execute_result"
    }
   ],
   "source": [
    "arr = np.random.randint(1,10, size=(5,5))\n",
    "arr"
   ]
  },
  {
   "cell_type": "code",
   "execution_count": 3,
   "id": "acc0391b",
   "metadata": {},
   "outputs": [
    {
     "data": {
      "text/plain": [
       "array([[8, 8, 2, 4, 7],\n",
       "       [9, 4, 6, 3, 2],\n",
       "       [1, 9, 5, 1, 7],\n",
       "       [7, 7, 9, 6, 9],\n",
       "       [6, 2, 9, 5, 4]])"
      ]
     },
     "execution_count": 3,
     "metadata": {},
     "output_type": "execute_result"
    }
   ],
   "source": [
    "# 전치\n",
    "arr.T\n",
    "np.transpose(arr)"
   ]
  },
  {
   "cell_type": "code",
   "execution_count": 5,
   "id": "954f9ecf",
   "metadata": {},
   "outputs": [
    {
     "data": {
      "text/plain": [
       "array([[197, 142, 143, 217, 130],\n",
       "       [142, 146,  92, 181, 139],\n",
       "       [143,  92, 157, 184, 102],\n",
       "       [217, 181, 184, 296, 203],\n",
       "       [130, 139, 102, 203, 162]])"
      ]
     },
     "execution_count": 5,
     "metadata": {},
     "output_type": "execute_result"
    }
   ],
   "source": [
    "# 행렬곱, 내적\n",
    "np.dot(arr.T, arr)"
   ]
  },
  {
   "cell_type": "code",
   "execution_count": 9,
   "id": "80a32fde",
   "metadata": {},
   "outputs": [
    {
     "name": "stdout",
     "output_type": "stream",
     "text": [
      "[[0 1 2]\n",
      " [3 4 5]] \n",
      "\n",
      "[[0 3]\n",
      " [1 4]\n",
      " [2 5]] \n",
      "\n",
      "[[0 3]\n",
      " [1 4]\n",
      " [2 5]]\n"
     ]
    }
   ],
   "source": [
    "a = np.arange(6).reshape(2,3)\n",
    "print(a,'\\n')\n",
    "\n",
    "y = np.swapaxes(a, 0,1) # 0은 2차원(열), 1은 1차원(행)\n",
    "print(y,'\\n')\n",
    "\n",
    "y = a.T\n",
    "y = np.transpose(a)\n",
    "y = np.transpose(a)\n",
    "print(y)"
   ]
  },
  {
   "cell_type": "code",
   "execution_count": null,
   "id": "aa407138",
   "metadata": {},
   "outputs": [],
   "source": [
    "# 1 ~ 100을 아래와 같이 출력하세요.\n",
    "\n",
    "[[  1   2   3   4   5   6   7   8   9  10]\n",
    " [ 20  19  18  17  16  15  14  13  12  11]\n",
    " [ 21  22  23  24  25  26  27  28  29  30]\n",
    " [ 40  39  38  37  36  35  34  33  32  31]\n",
    " [ 41  42  43  44  45  46  47  48  49  50]\n",
    " [ 60  59  58  57  56  55  54  53  52  51]\n",
    " [ 61  62  63  64  65  66  67  68  69  70]\n",
    " [ 80  79  78  77  76  75  74  73  72  71]\n",
    " [ 81  82  83  84  85  86  87  88  89  90]\n",
    " [100  99  98  97  96  95  94  93  92  91]] <class 'numpy.ndarray'>\n"
   ]
  },
  {
   "cell_type": "code",
   "execution_count": 10,
   "id": "528872c7",
   "metadata": {},
   "outputs": [
    {
     "name": "stdout",
     "output_type": "stream",
     "text": [
      "[[  1   2   3   4   5   6   7   8   9  10]\n",
      " [ 20  19  18  17  16  15  14  13  12  11]\n",
      " [ 21  22  23  24  25  26  27  28  29  30]\n",
      " [ 40  39  38  37  36  35  34  33  32  31]\n",
      " [ 41  42  43  44  45  46  47  48  49  50]\n",
      " [ 60  59  58  57  56  55  54  53  52  51]\n",
      " [ 61  62  63  64  65  66  67  68  69  70]\n",
      " [ 80  79  78  77  76  75  74  73  72  71]\n",
      " [ 81  82  83  84  85  86  87  88  89  90]\n",
      " [100  99  98  97  96  95  94  93  92  91]]\n"
     ]
    }
   ],
   "source": [
    "arr = np.arange(1,101).reshape(10,10)\n",
    "arr[[1,3,5,7,9]] = arr[[1,3,5,7,9]][:,[9,8,7,6,5,4,3,2,1,0]]\n",
    "print(arr)"
   ]
  },
  {
   "cell_type": "code",
   "execution_count": 11,
   "id": "ec8d9b42",
   "metadata": {},
   "outputs": [
    {
     "name": "stdout",
     "output_type": "stream",
     "text": [
      "[[  1   2   3   4   5   6   7   8   9  10]\n",
      " [ 20  19  18  17  16  15  14  13  12  11]\n",
      " [ 21  22  23  24  25  26  27  28  29  30]\n",
      " [ 40  39  38  37  36  35  34  33  32  31]\n",
      " [ 41  42  43  44  45  46  47  48  49  50]\n",
      " [ 60  59  58  57  56  55  54  53  52  51]\n",
      " [ 61  62  63  64  65  66  67  68  69  70]\n",
      " [ 80  79  78  77  76  75  74  73  72  71]\n",
      " [ 81  82  83  84  85  86  87  88  89  90]\n",
      " [100  99  98  97  96  95  94  93  92  91]]\n"
     ]
    }
   ],
   "source": [
    "a = np.arange(1, 101).reshape((10, -1))\n",
    "\n",
    "for i in range(10):\n",
    "    if i % 2 == 1:\n",
    "        a[i] = a[i][::-1]\n",
    "\n",
    "print(a)\n"
   ]
  },
  {
   "cell_type": "code",
   "execution_count": 14,
   "id": "8eb84533",
   "metadata": {},
   "outputs": [
    {
     "name": "stdout",
     "output_type": "stream",
     "text": [
      "[[[0 1 2]\n",
      "  [3 4 5]]] (1, 2, 3) \n",
      "\n",
      "[[[0 1 2]]\n",
      "\n",
      " [[3 4 5]]] (2, 1, 3) \n",
      "\n"
     ]
    }
   ],
   "source": [
    "# (0,1,2)\n",
    "# 3차원과 2차원을 바꾸는 경우 : (1,2,3) -> (2,1,3)\n",
    "a = np.arange(6).reshape(1,2,3)\n",
    "print(a,a.shape,'\\n')\n",
    "\n",
    "y = np.transpose(a,(1,0,2))\n",
    "print(y,y.shape,'\\n')"
   ]
  },
  {
   "cell_type": "code",
   "execution_count": 16,
   "id": "463e9166",
   "metadata": {},
   "outputs": [
    {
     "name": "stdout",
     "output_type": "stream",
     "text": [
      "[[[0 1 2]\n",
      "  [3 4 5]]] (1, 2, 3) \n",
      "\n",
      "[[[0]\n",
      "  [1]\n",
      "  [2]]\n",
      "\n",
      " [[3]\n",
      "  [4]\n",
      "  [5]]] (2, 3, 1)\n"
     ]
    }
   ],
   "source": [
    "# (1,2,3) -> (2,3,1)\n",
    "a = np.arange(6).reshape(1,2,3)\n",
    "print(a,a.shape,'\\n')\n",
    "y = np.transpose(a,(1,2,0))\n",
    "print(y,y.shape)"
   ]
  },
  {
   "cell_type": "code",
   "execution_count": 19,
   "id": "a331c5c1",
   "metadata": {},
   "outputs": [
    {
     "name": "stdout",
     "output_type": "stream",
     "text": [
      "[[[ 0  1  2  3]\n",
      "  [ 4  5  6  7]]\n",
      "\n",
      " [[ 8  9 10 11]\n",
      "  [12 13 14 15]]] (2, 2, 4) \n",
      "\n"
     ]
    }
   ],
   "source": [
    "# [과제] 아래 배열에서 3차원과 2차원을 변경하여 출력하세요(shape 확인)\n",
    "arr = np.arange(16).reshape(2,2,4)\n",
    "print(arr,arr.shape,'\\n')"
   ]
  },
  {
   "cell_type": "code",
   "execution_count": null,
   "id": "4022f96d",
   "metadata": {},
   "outputs": [],
   "source": [
    "# [과제] 상기 과제의 arr에서 2차원과 1차원을 변경하여 출력하세요(shape 확인)"
   ]
  },
  {
   "cell_type": "code",
   "execution_count": 21,
   "id": "ac4de091",
   "metadata": {},
   "outputs": [
    {
     "name": "stdout",
     "output_type": "stream",
     "text": [
      "[1 2 0]\n",
      "[1 2 0]\n"
     ]
    }
   ],
   "source": [
    "# 나머지를 구할 경우 사용하는 함수\n",
    "value1 = np.array([15,30,45])\n",
    "value2 = np.array([2,7,9])\n",
    "print(np.mod(value1,value2))\n",
    "print(np.remainder(value1,value2))"
   ]
  },
  {
   "cell_type": "code",
   "execution_count": 24,
   "id": "4b6d9b48",
   "metadata": {},
   "outputs": [
    {
     "name": "stdout",
     "output_type": "stream",
     "text": [
      "[1.17647059 0.54054054 1.         0.01      ] \n",
      "\n",
      "[100] \n",
      "\n",
      "[0.01]\n"
     ]
    }
   ],
   "source": [
    "# 각 수의 역수를 구해주는 함수\n",
    "value = np.array([0.85,1.85,1,100])\n",
    "print(np.reciprocal(value),'\\n')\n",
    "\n",
    "value1 = np.array([100],dtype = int)\n",
    "print(value1,'\\n')\n",
    "print(np.reciprocal(value1, dtype=float))"
   ]
  },
  {
   "cell_type": "code",
   "execution_count": 25,
   "id": "d4b993ce",
   "metadata": {},
   "outputs": [
    {
     "name": "stdout",
     "output_type": "stream",
     "text": [
      "[  4 100 225] \n",
      "\n",
      "[   2  100 3375]\n"
     ]
    }
   ],
   "source": [
    "# 승수의 결과 값을 표시해주는 함수\n",
    "value1 = np.array([2,10,15])\n",
    "value2 = np.array([1,2,3])\n",
    "\n",
    "print(np.power(value1,2),'\\n')\n",
    "print(np.power(value1,value2))"
   ]
  },
  {
   "cell_type": "code",
   "execution_count": 32,
   "id": "8bfc7a85",
   "metadata": {},
   "outputs": [
    {
     "data": {
      "text/plain": [
       "array([ 0.93844349, -1.70350145,  1.43032172,  1.72771127,  1.18513425,\n",
       "       -0.17828169, -0.59747204,  1.30479862,  1.80892605,  0.05843872])"
      ]
     },
     "execution_count": 32,
     "metadata": {},
     "output_type": "execute_result"
    }
   ],
   "source": [
    "arr = np.random.randn(10)\n",
    "# print(arr.mean(),'\\n')\n",
    "# print(arr.std())\n",
    "arr"
   ]
  },
  {
   "cell_type": "code",
   "execution_count": 33,
   "id": "226d3c8b",
   "metadata": {},
   "outputs": [
    {
     "data": {
      "text/plain": [
       "7"
      ]
     },
     "execution_count": 33,
     "metadata": {},
     "output_type": "execute_result"
    }
   ],
   "source": [
    "# 양수인 원소의 개수\n",
    "(arr > 0).sum()"
   ]
  },
  {
   "cell_type": "code",
   "execution_count": 34,
   "id": "54354da1",
   "metadata": {},
   "outputs": [
    {
     "data": {
      "text/plain": [
       "True"
      ]
     },
     "execution_count": 34,
     "metadata": {},
     "output_type": "execute_result"
    }
   ],
   "source": [
    "# 하나 이상의 값이 True인지 검사\n",
    "bools = np.array([False,False, True,True])\n",
    "bools.any()"
   ]
  },
  {
   "cell_type": "code",
   "execution_count": 35,
   "id": "4dfd2ef6",
   "metadata": {},
   "outputs": [
    {
     "data": {
      "text/plain": [
       "False"
      ]
     },
     "execution_count": 35,
     "metadata": {},
     "output_type": "execute_result"
    }
   ],
   "source": [
    "# 모든 원소가 True인지 검사\n",
    "bools.all()"
   ]
  },
  {
   "cell_type": "code",
   "execution_count": 37,
   "id": "76231100",
   "metadata": {},
   "outputs": [
    {
     "name": "stdout",
     "output_type": "stream",
     "text": [
      "[[ 1.7473973   0.82798397  0.94804643  1.03016619]\n",
      " [-0.34239068  0.62847099  0.33205515 -0.22287872]\n",
      " [-0.09000575 -0.71853303 -0.93714676  0.91819086]\n",
      " [ 1.57169578  1.27593397  0.44396742  0.57010209]] \n",
      "\n"
     ]
    },
    {
     "data": {
      "text/plain": [
       "array([[ 2,  2,  2,  2],\n",
       "       [-2,  2,  2, -2],\n",
       "       [-2, -2, -2,  2],\n",
       "       [ 2,  2,  2,  2]])"
      ]
     },
     "execution_count": 37,
     "metadata": {},
     "output_type": "execute_result"
    }
   ],
   "source": [
    "# 삼항식의 벡터화 버전\n",
    "arr = np.random.randn(4,4)\n",
    "print(arr,'\\n')\n",
    "np.where(arr > 0, 2, -2)"
   ]
  },
  {
   "cell_type": "code",
   "execution_count": 38,
   "id": "7dfa332c",
   "metadata": {},
   "outputs": [
    {
     "data": {
      "text/plain": [
       "array([[ 2.        ,  2.        ,  2.        ,  2.        ],\n",
       "       [-0.34239068,  2.        ,  2.        , -0.22287872],\n",
       "       [-0.09000575, -0.71853303, -0.93714676,  2.        ],\n",
       "       [ 2.        ,  2.        ,  2.        ,  2.        ]])"
      ]
     },
     "execution_count": 38,
     "metadata": {},
     "output_type": "execute_result"
    }
   ],
   "source": [
    "# arr의 모든 양수를 2로 바꿀 경우\n",
    "np.where(arr > 0, 2, arr)"
   ]
  },
  {
   "cell_type": "code",
   "execution_count": 40,
   "id": "870f5027",
   "metadata": {},
   "outputs": [
    {
     "name": "stdout",
     "output_type": "stream",
     "text": [
      "[[1 2 3]\n",
      " [1 2 3]\n",
      " [1 2 3]] \n",
      "\n",
      "[[1 1 1]\n",
      " [2 2 2]\n",
      " [3 3 3]]\n"
     ]
    }
   ],
   "source": [
    "# 두개의 1차원 배열을 받아서 가능한 모든 (x,y) 짝을 만들 수 있는 2차원 배열 2개 반환\n",
    "x = np.arange(1,4)\n",
    "y = np.arange(1,4)\n",
    "xs,ys = np.meshgrid(x,y)\n",
    "print(xs,'\\n')\n",
    "print(ys)"
   ]
  },
  {
   "cell_type": "code",
   "execution_count": 47,
   "id": "e3ba1689",
   "metadata": {},
   "outputs": [
    {
     "name": "stdout",
     "output_type": "stream",
     "text": [
      "[45 48 65 68 68 10 84 22 37 88] \n",
      "\n",
      "[10 22 37 45 48 65 68 68 84 88] \n",
      "\n",
      "[45 48 65 68 68 10 84 22 37 88]\n"
     ]
    }
   ],
   "source": [
    "# np.sort()\n",
    "np.random.seed(0)\n",
    "arr = np.random.randint(1,100,size=10)\n",
    "print(arr,'\\n')\n",
    "print(np.sort(arr),'\\n')\n",
    "print(arr)"
   ]
  },
  {
   "cell_type": "code",
   "execution_count": 48,
   "id": "3495f9c2",
   "metadata": {},
   "outputs": [
    {
     "name": "stdout",
     "output_type": "stream",
     "text": [
      "[10 22 37 45 48 65 68 68 84 88]\n"
     ]
    }
   ],
   "source": [
    "sorted = np.sort(arr)\n",
    "print(sorted)"
   ]
  },
  {
   "cell_type": "code",
   "execution_count": 51,
   "id": "13962bf7",
   "metadata": {},
   "outputs": [
    {
     "name": "stdout",
     "output_type": "stream",
     "text": [
      "[[ 8 12]\n",
      " [ 7  1]] \n",
      "\n",
      "[[ 7  1]\n",
      " [ 8 12]] \n",
      "\n",
      "[[ 8 12]\n",
      " [ 1  7]]\n"
     ]
    }
   ],
   "source": [
    "# 행렬이 2차원 이상일 때 axis 축 값 설정을 통해 행, 열 방향으로 정렬 수행\n",
    "arr2d = np.array([[8,12],[7,1]])\n",
    "print(arr2d,'\\n')\n",
    "sort_ar2d_axis0 = np.sort(arr2d, axis=0)\n",
    "print(sort_ar2d_axis0,'\\n')\n",
    "sort_ar2d_axis1 = np.sort(arr2d, axis=1)\n",
    "print(sort_ar2d_axis1)"
   ]
  },
  {
   "cell_type": "code",
   "execution_count": 60,
   "id": "b6974e0a",
   "metadata": {},
   "outputs": [
    {
     "name": "stdout",
     "output_type": "stream",
     "text": [
      "[6 1 4 4 8 4 6 3 5 8] \n",
      "\n",
      "[1 3 4 4 4 5 6 6 8 8]\n"
     ]
    }
   ],
   "source": [
    "# ndarray.sort() : 원본 반영\n",
    "np.random.seed(0)\n",
    "arr = np.random.randint(1,10,size=10)\n",
    "# arr = np.random.randn(6)\n",
    "print(arr,'\\n')\n",
    "arr.sort() # 원본 반영\n",
    "print(arr)"
   ]
  },
  {
   "cell_type": "code",
   "execution_count": 67,
   "id": "24c28674",
   "metadata": {},
   "outputs": [
    {
     "name": "stdout",
     "output_type": "stream",
     "text": [
      "[[6 1 4]\n",
      " [4 8 4]\n",
      " [6 3 5]\n",
      " [8 7 9]\n",
      " [9 2 7]] \n",
      "\n",
      "[[1 4 6]\n",
      " [4 4 8]\n",
      " [3 5 6]\n",
      " [7 8 9]\n",
      " [2 7 9]]\n"
     ]
    }
   ],
   "source": [
    "# 다차원 배열의 정렬은 sort 메소드에 넘긴 축에 따라 1차원 부분을 정렬\n",
    "# 열방향 정렬, default\n",
    "np.random.seed(0)\n",
    "arr = np.random.randint(1,10,size=(5,3))\n",
    "print(arr,'\\n')\n",
    "arr.sort(1)\n",
    "print(arr)"
   ]
  },
  {
   "cell_type": "code",
   "execution_count": 66,
   "id": "27351a52",
   "metadata": {},
   "outputs": [
    {
     "name": "stdout",
     "output_type": "stream",
     "text": [
      "[[6 1 4]\n",
      " [4 8 4]\n",
      " [6 3 5]\n",
      " [8 7 9]\n",
      " [9 2 7]] \n",
      "\n",
      "[[4 1 4]\n",
      " [6 2 4]\n",
      " [6 3 5]\n",
      " [8 7 7]\n",
      " [9 8 9]]\n"
     ]
    }
   ],
   "source": [
    "# 행방향 정렬\n",
    "np.random.seed(0)\n",
    "arr = np.random.randint(1,10,size=(5,3))\n",
    "print(arr,'\\n')\n",
    "arr.sort(0)\n",
    "print(arr)"
   ]
  },
  {
   "cell_type": "code",
   "execution_count": 68,
   "id": "ada128da",
   "metadata": {},
   "outputs": [
    {
     "name": "stdout",
     "output_type": "stream",
     "text": [
      "[3 1 9 5]\n",
      "<class 'numpy.ndarray'>\n"
     ]
    },
    {
     "data": {
      "text/plain": [
       "array([1, 0, 3, 2], dtype=int64)"
      ]
     },
     "execution_count": 68,
     "metadata": {},
     "output_type": "execute_result"
    }
   ],
   "source": [
    "# 정렬된 행렬의 인덱스 반환 : 기존 원본 행렬의 원소에 대한 인덱스를 필요로 할 때\n",
    "org_array = np.array([3,1,9,5])\n",
    "sort_indices = np.argsort(org_array)\n",
    "print(org_array)\n",
    "print(type(sort_indices))\n",
    "sort_indices"
   ]
  },
  {
   "cell_type": "code",
   "execution_count": 86,
   "id": "b0046a2c",
   "metadata": {},
   "outputs": [
    {
     "data": {
      "text/plain": [
       "0.05914416657426071"
      ]
     },
     "execution_count": 86,
     "metadata": {},
     "output_type": "execute_result"
    }
   ],
   "source": [
    "# 배열에서 정렬한 후 50%에 해당하는 원소만 출력\n",
    "large_arr = np.random.randn(1000)\n",
    "large_arr.sort()\n",
    "large_arr[int(0.5*len(large_arr))]"
   ]
  },
  {
   "cell_type": "code",
   "execution_count": 87,
   "id": "4820ba3b",
   "metadata": {},
   "outputs": [
    {
     "data": {
      "text/plain": [
       "array(['Bob', 'Joe', 'Will'], dtype='<U4')"
      ]
     },
     "execution_count": 87,
     "metadata": {},
     "output_type": "execute_result"
    }
   ],
   "source": [
    "# 배열 집합 연산\n",
    "names = np.array(['Bob','Joe','Will','Joe','Joe'])\n",
    "np.unique(names)"
   ]
  },
  {
   "cell_type": "code",
   "execution_count": 4,
   "id": "a10390ff",
   "metadata": {},
   "outputs": [
    {
     "data": {
      "text/plain": [
       "['Bob', 'Joe', 'Will']"
      ]
     },
     "execution_count": 4,
     "metadata": {},
     "output_type": "execute_result"
    }
   ],
   "source": [
    "import numpy as np\n",
    "names = np.array(['Bob','Joe','Will','Joe','Joe'])\n",
    "sorted(set(names))"
   ]
  },
  {
   "cell_type": "code",
   "execution_count": 5,
   "id": "9818a3e1",
   "metadata": {},
   "outputs": [
    {
     "data": {
      "text/plain": [
       "array([ True, False, False,  True,  True, False,  True])"
      ]
     },
     "execution_count": 5,
     "metadata": {},
     "output_type": "execute_result"
    }
   ],
   "source": [
    "# 첫번째 배열의 원소가 두번째 배열의 원소를 포함하는지 알려주는 불리언 배열을 반환\n",
    "values = np.array([6,0,0,3,2,5,6])\n",
    "np.in1d(values, [2,3,6])"
   ]
  },
  {
   "cell_type": "code",
   "execution_count": 6,
   "id": "023045cb",
   "metadata": {},
   "outputs": [],
   "source": [
    "# 배열 데이터의 입출력\n",
    "# np.save, np.load는 바이너리 형식 .npy 파일로 저장\n",
    "\n",
    "arr = np.arange(10)\n",
    "np.save('some_array',arr)"
   ]
  },
  {
   "cell_type": "code",
   "execution_count": 7,
   "id": "4a28aef7",
   "metadata": {},
   "outputs": [
    {
     "data": {
      "text/plain": [
       "array([0, 1, 2, 3, 4, 5, 6, 7, 8, 9])"
      ]
     },
     "execution_count": 7,
     "metadata": {},
     "output_type": "execute_result"
    }
   ],
   "source": [
    "np.load('some_array.npy')"
   ]
  },
  {
   "cell_type": "code",
   "execution_count": 8,
   "id": "758f57b3",
   "metadata": {},
   "outputs": [],
   "source": [
    "# np.savez : 여러개의 배열을 압축된 형식으로 저장\n",
    "np.savez('array_archive.npz',a=arr,b=arr)"
   ]
  },
  {
   "cell_type": "code",
   "execution_count": 10,
   "id": "e7df6579",
   "metadata": {},
   "outputs": [
    {
     "data": {
      "text/plain": [
       "array([0, 1, 2, 3, 4, 5, 6, 7, 8, 9])"
      ]
     },
     "execution_count": 10,
     "metadata": {},
     "output_type": "execute_result"
    }
   ],
   "source": [
    "arch = np.load('array_archive.npz')\n",
    "arch['a']"
   ]
  },
  {
   "cell_type": "code",
   "execution_count": 11,
   "id": "20da0bc2",
   "metadata": {},
   "outputs": [
    {
     "data": {
      "text/plain": [
       "array([1, 1, 1, 1, 1, 1, 1, 1, 1, 1])"
      ]
     },
     "execution_count": 11,
     "metadata": {},
     "output_type": "execute_result"
    }
   ],
   "source": [
    "# Q. 인덱싱을 사용하여 [1 0 1 0 1 0 1 0 1 0] 을 출력하세요.\n",
    "a = np.ones(10,dtype=int)\n",
    "a"
   ]
  },
  {
   "cell_type": "code",
   "execution_count": 20,
   "id": "5bb2453c",
   "metadata": {},
   "outputs": [
    {
     "name": "stdout",
     "output_type": "stream",
     "text": [
      "[1 0 1 0 1 0 1 0 1 0]\n"
     ]
    }
   ],
   "source": [
    "a = np.ones(10).astype(int)\n",
    "a[[1,3,5,7,9]] = 0\n",
    "print(a)"
   ]
  },
  {
   "cell_type": "code",
   "execution_count": null,
   "id": "153cdfd5",
   "metadata": {},
   "outputs": [],
   "source": [
    "# Q. a = np.arange(10)에서 [6,7,8,9] 출력"
   ]
  },
  {
   "cell_type": "code",
   "execution_count": 12,
   "id": "42295f03",
   "metadata": {},
   "outputs": [
    {
     "data": {
      "text/plain": [
       "array([6, 7, 8, 9])"
      ]
     },
     "execution_count": 12,
     "metadata": {},
     "output_type": "execute_result"
    }
   ],
   "source": [
    "a= np.arange(10)\n",
    "a1 = a[a>5]\n",
    "a1"
   ]
  },
  {
   "cell_type": "code",
   "execution_count": null,
   "id": "e567c1c4",
   "metadata": {},
   "outputs": [],
   "source": [
    "# Q. a에서 최대값, 최소값의 인덱스 출력"
   ]
  },
  {
   "cell_type": "code",
   "execution_count": 16,
   "id": "6b3374a2",
   "metadata": {},
   "outputs": [
    {
     "name": "stdout",
     "output_type": "stream",
     "text": [
      "최댓값: 8\n",
      "최솟값: 0\n"
     ]
    }
   ],
   "source": [
    "a = np.arange(1,10)\n",
    "print(f'최댓값: {np.argmax(a)}\\n최솟값: {np.argmin(a)}')"
   ]
  },
  {
   "cell_type": "code",
   "execution_count": null,
   "id": "242ab2e7",
   "metadata": {},
   "outputs": [],
   "source": [
    "# Q. a에서 인덱스 배열을 역순으로 출력하세요."
   ]
  },
  {
   "cell_type": "code",
   "execution_count": 17,
   "id": "2c203a95",
   "metadata": {},
   "outputs": [
    {
     "data": {
      "text/plain": [
       "array([8, 7, 6, 5, 4, 3, 2, 1, 0], dtype=int64)"
      ]
     },
     "execution_count": 17,
     "metadata": {},
     "output_type": "execute_result"
    }
   ],
   "source": [
    "np.argsort(a)[::-1]"
   ]
  },
  {
   "cell_type": "code",
   "execution_count": null,
   "id": "43599dfa",
   "metadata": {},
   "outputs": [],
   "source": [
    "# Q. np.ones((10,10))을 아래와 같이 출력하세요.\n",
    "array([[1., 1., 1., 1., 1., 1., 1., 1., 1., 1.],\n",
    "       [1., 0., 0., 0., 0., 0., 0., 0., 0., 1.],\n",
    "       [1., 0., 0., 0., 0., 0., 0., 0., 0., 1.],\n",
    "       [1., 0., 0., 0., 0., 0., 0., 0., 0., 1.],\n",
    "       [1., 0., 0., 0., 0., 0., 0., 0., 0., 1.],\n",
    "       [1., 0., 0., 0., 0., 0., 0., 0., 0., 1.],\n",
    "       [1., 0., 0., 0., 0., 0., 0., 0., 0., 1.],\n",
    "       [1., 0., 0., 0., 0., 0., 0., 0., 0., 1.],\n",
    "       [1., 0., 0., 0., 0., 0., 0., 0., 0., 1.],\n",
    "       [1., 1., 1., 1., 1., 1., 1., 1., 1., 1.]])"
   ]
  },
  {
   "cell_type": "code",
   "execution_count": 18,
   "id": "f629baa5",
   "metadata": {},
   "outputs": [
    {
     "data": {
      "text/plain": [
       "array([[1., 1., 1., 1., 1., 1., 1., 1., 1., 1.],\n",
       "       [1., 0., 0., 0., 0., 0., 0., 0., 0., 1.],\n",
       "       [1., 0., 0., 0., 0., 0., 0., 0., 0., 1.],\n",
       "       [1., 0., 0., 0., 0., 0., 0., 0., 0., 1.],\n",
       "       [1., 0., 0., 0., 0., 0., 0., 0., 0., 1.],\n",
       "       [1., 0., 0., 0., 0., 0., 0., 0., 0., 1.],\n",
       "       [1., 0., 0., 0., 0., 0., 0., 0., 0., 1.],\n",
       "       [1., 0., 0., 0., 0., 0., 0., 0., 0., 1.],\n",
       "       [1., 0., 0., 0., 0., 0., 0., 0., 0., 1.],\n",
       "       [1., 1., 1., 1., 1., 1., 1., 1., 1., 1.]])"
      ]
     },
     "execution_count": 18,
     "metadata": {},
     "output_type": "execute_result"
    }
   ],
   "source": [
    "b=np.ones((10,10))\n",
    "b[1:9,1:9]=0\n",
    "b"
   ]
  },
  {
   "cell_type": "code",
   "execution_count": null,
   "id": "e669e2c7",
   "metadata": {},
   "outputs": [],
   "source": [
    "# [과제] np.ones((5,5))을 아래와 같이 출력하세요.\n",
    "array([[0., 0., 0., 0., 0., 0., 0., 0., 0.],\n",
    "       [0., 0., 0., 0., 0., 0., 0., 0., 0.],\n",
    "       [0., 0., 1., 1., 1., 1., 1., 0., 0.],\n",
    "       [0., 0., 1., 1., 1., 1., 1., 0., 0.],\n",
    "       [0., 0., 1., 1., 1., 1., 1., 0., 0.],\n",
    "       [0., 0., 1., 1., 1., 1., 1., 0., 0.],\n",
    "       [0., 0., 1., 1., 1., 1., 1., 0., 0.],\n",
    "       [0., 0., 0., 0., 0., 0., 0., 0., 0.],\n",
    "       [0., 0., 0., 0., 0., 0., 0., 0., 0.]])\n"
   ]
  },
  {
   "cell_type": "code",
   "execution_count": null,
   "id": "ba4ab370",
   "metadata": {},
   "outputs": [],
   "source": [
    "# [과제] np.zeros((8,8))을 이용해서 아래와 같이 출력하세요(두가지 방식:인덱싱, tile함수)\n",
    "array([[0, 1, 0, 1, 0, 1, 0, 1],\n",
    "       [1, 0, 1, 0, 1, 0, 1, 0],\n",
    "       [0, 1, 0, 1, 0, 1, 0, 1],\n",
    "       [1, 0, 1, 0, 1, 0, 1, 0],\n",
    "       [0, 1, 0, 1, 0, 1, 0, 1],\n",
    "       [1, 0, 1, 0, 1, 0, 1, 0],\n",
    "       [0, 1, 0, 1, 0, 1, 0, 1],\n",
    "       [1, 0, 1, 0, 1, 0, 1, 0]])"
   ]
  },
  {
   "cell_type": "code",
   "execution_count": null,
   "id": "9cf10853",
   "metadata": {},
   "outputs": [],
   "source": [
    "# [도전과제] np.arange(336).reshape(6,7,8)에서 100번째 요소의 인덱스를 구하세요"
   ]
  },
  {
   "cell_type": "code",
   "execution_count": null,
   "id": "c8ef0f6d",
   "metadata": {},
   "outputs": [],
   "source": [
    "# [도전과제] np.arrange(4)을 이용해서 아래와 같이 출력하세요.\n",
    "array([[0, 0, 0, 0, 0],\n",
    "       [1, 0, 0, 0, 0],\n",
    "       [0, 2, 0, 0, 0],\n",
    "       [0, 0, 3, 0, 0],\n",
    "       [0, 0, 0, 4, 0]])"
   ]
  }
 ],
 "metadata": {
  "kernelspec": {
   "display_name": "Python 3 (ipykernel)",
   "language": "python",
   "name": "python3"
  },
  "language_info": {
   "codemirror_mode": {
    "name": "ipython",
    "version": 3
   },
   "file_extension": ".py",
   "mimetype": "text/x-python",
   "name": "python",
   "nbconvert_exporter": "python",
   "pygments_lexer": "ipython3",
   "version": "3.8.12"
  }
 },
 "nbformat": 4,
 "nbformat_minor": 5
}
