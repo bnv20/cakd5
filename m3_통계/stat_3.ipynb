{
 "cells": [
  {
   "cell_type": "code",
   "execution_count": 89,
   "id": "326d0cd6",
   "metadata": {},
   "outputs": [],
   "source": [
    "#1차원 이산확률분포\n",
    "import numpy as np\n",
    "import matplotlib.pyplot as plt\n",
    "\n",
    "x_set = np.array([1,2,3,4,5,6])\n",
    "\n",
    "\n",
    "def f(x):\n",
    "    if x in x_set:\n",
    "        return x/21\n",
    "    else:\n",
    "        return 0\n",
    "X =[x_set, f]"
   ]
  },
  {
   "cell_type": "code",
   "execution_count": 90,
   "id": "d25c1cff",
   "metadata": {},
   "outputs": [
    {
     "name": "stdout",
     "output_type": "stream",
     "text": [
      "[0.04761905 0.0952381  0.14285714 0.19047619 0.23809524 0.28571429] \n",
      "\n"
     ]
    },
    {
     "data": {
      "text/plain": [
       "{1: 0.047619047619047616,\n",
       " 2: 0.09523809523809523,\n",
       " 3: 0.14285714285714285,\n",
       " 4: 0.19047619047619047,\n",
       " 5: 0.23809523809523808,\n",
       " 6: 0.2857142857142857}"
      ]
     },
     "execution_count": 90,
     "metadata": {},
     "output_type": "execute_result"
    }
   ],
   "source": [
    "prob = np.array([f(x_k) for x_k in x_set])\n",
    "print(prob, '\\n')\n",
    "dict(zip(x_set, prob))"
   ]
  },
  {
   "cell_type": "code",
   "execution_count": 91,
   "id": "7b7aa6af",
   "metadata": {},
   "outputs": [
    {
     "data": {
      "text/plain": [
       "<BarContainer object of 6 artists>"
      ]
     },
     "execution_count": 91,
     "metadata": {},
     "output_type": "execute_result"
    },
    {
     "data": {
      "image/png": "[encoded data removed]",
      "text/plain": [
       "<Figure size 432x288 with 1 Axes>"
      ]
     },
     "metadata": {
      "needs_background": "light"
     },
     "output_type": "display_data"
    }
   ],
   "source": [
    "plt.bar(x_set,prob,color='palegreen')"
   ]
  },
  {
   "cell_type": "code",
   "execution_count": 92,
   "id": "7ad48b24",
   "metadata": {},
   "outputs": [
    {
     "data": {
      "text/plain": [
       "True"
      ]
     },
     "execution_count": 92,
     "metadata": {},
     "output_type": "execute_result"
    }
   ],
   "source": [
    "np.all(prob>=0)"
   ]
  },
  {
   "cell_type": "code",
   "execution_count": 93,
   "id": "cfb2e8f6",
   "metadata": {},
   "outputs": [
    {
     "data": {
      "text/plain": [
       "0.9999999999999999"
      ]
     },
     "execution_count": 93,
     "metadata": {},
     "output_type": "execute_result"
    }
   ],
   "source": [
    "np.sum(prob)"
   ]
  },
  {
   "cell_type": "code",
   "execution_count": 94,
   "id": "ff171dc9",
   "metadata": {},
   "outputs": [],
   "source": [
    "#누적분포함수\n",
    "def F(x):\n",
    "    return np.sum([f(x_k) for x_k in x_set if x_k <= x])"
   ]
  },
  {
   "cell_type": "code",
   "execution_count": 95,
   "id": "161ad8d3",
   "metadata": {},
   "outputs": [
    {
     "data": {
      "text/plain": [
       "0.2857142857142857"
      ]
     },
     "execution_count": 95,
     "metadata": {},
     "output_type": "execute_result"
    }
   ],
   "source": [
    "F(3)"
   ]
  },
  {
   "cell_type": "code",
   "execution_count": 96,
   "id": "a16757e7",
   "metadata": {},
   "outputs": [
    {
     "data": {
      "text/plain": [
       "{5: 0.047619047619047616,\n",
       " 7: 0.09523809523809523,\n",
       " 9: 0.14285714285714285,\n",
       " 11: 0.19047619047619047,\n",
       " 13: 0.23809523809523808,\n",
       " 15: 0.2857142857142857}"
      ]
     },
     "execution_count": 96,
     "metadata": {},
     "output_type": "execute_result"
    }
   ],
   "source": [
    "# 확률변수의 변환: 확률변수 X에 2를 곱하고 3을 더한 2X+3도 확률변수가 된다.\n",
    "y_set = np.array([2* x_k +3 for x_k in x_set])\n",
    "prob = np.array([f(x_k) for x_k in x_set])\n",
    "dict(zip(y_set , prob))"
   ]
  },
  {
   "cell_type": "code",
   "execution_count": 97,
   "id": "86c5f1db",
   "metadata": {},
   "outputs": [
    {
     "data": {
      "text/plain": [
       "4.333333333333333"
      ]
     },
     "execution_count": 97,
     "metadata": {},
     "output_type": "execute_result"
    }
   ],
   "source": [
    "# 1차원 이산형 확률변수의 지표\n",
    "# 평균 : 확률변수의 평균은 확률변수의 중심을 나타내는 지표가 되며 기댓값이라고도 부른다\n",
    "np.sum([x_k * f(x_k) for x_k in x_set])"
   ]
  },
  {
   "cell_type": "code",
   "execution_count": 98,
   "id": "ecfb0bb5",
   "metadata": {},
   "outputs": [
    {
     "data": {
      "text/plain": [
       "4.332539"
      ]
     },
     "execution_count": 98,
     "metadata": {},
     "output_type": "execute_result"
    }
   ],
   "source": [
    "#확률변수의 기댓값은 확률변수를 무제한 시행하여 얻은 실현값의 평균\n",
    "sample = np.random.choice(x_set, int(1e6), p=prob)\n",
    "np.mean(sample)"
   ]
  },
  {
   "cell_type": "code",
   "execution_count": 99,
   "id": "5cd6af90",
   "metadata": {},
   "outputs": [],
   "source": [
    "# 일반화\n",
    "def E(X,g=lambda x :x):\n",
    "    x_set, f = X \n",
    "    return np.sum([g(x_k) * f(x_k) for x_k in x_set])"
   ]
  },
  {
   "cell_type": "code",
   "execution_count": 100,
   "id": "52c88909",
   "metadata": {},
   "outputs": [
    {
     "data": {
      "text/plain": [
       "4.333333333333333"
      ]
     },
     "execution_count": 100,
     "metadata": {},
     "output_type": "execute_result"
    }
   ],
   "source": [
    "E(X)"
   ]
  },
  {
   "cell_type": "code",
   "execution_count": 101,
   "id": "ba8bf795",
   "metadata": {},
   "outputs": [
    {
     "data": {
      "text/plain": [
       "11.666666666666664"
      ]
     },
     "execution_count": 101,
     "metadata": {},
     "output_type": "execute_result"
    }
   ],
   "source": [
    "E(X , g=lambda x: 2*x+3)"
   ]
  },
  {
   "cell_type": "code",
   "execution_count": 102,
   "id": "5ed2047e",
   "metadata": {},
   "outputs": [
    {
     "data": {
      "text/plain": [
       "11.666666666666666"
      ]
     },
     "execution_count": 102,
     "metadata": {},
     "output_type": "execute_result"
    }
   ],
   "source": [
    "# 기댓값의 선형성\n",
    "2 * E(X) + 3"
   ]
  },
  {
   "cell_type": "code",
   "execution_count": 103,
   "id": "5efc3544",
   "metadata": {},
   "outputs": [
    {
     "data": {
      "text/plain": [
       "2.2222222222222223"
      ]
     },
     "execution_count": 103,
     "metadata": {},
     "output_type": "execute_result"
    }
   ],
   "source": [
    "# 분산\n",
    "mean = E(X)\n",
    "np.sum([(x_k - mean)**2 * f(x_k) for x_k in x_set])"
   ]
  },
  {
   "cell_type": "code",
   "execution_count": 104,
   "id": "7aa085c1",
   "metadata": {},
   "outputs": [
    {
     "data": {
      "text/plain": [
       "8.88888888888889"
      ]
     },
     "execution_count": 104,
     "metadata": {},
     "output_type": "execute_result"
    }
   ],
   "source": [
    "#일반화\n",
    "def V(X, g = lambda x:x):\n",
    "    x_set,f = X\n",
    "    mean = E(X,g)\n",
    "    return np.sum([(g(i)-mean)**2 *f(i) for i in x_set])\n",
    "\n",
    "V(X, lambda x:2*x+3)"
   ]
  },
  {
   "cell_type": "code",
   "execution_count": 105,
   "id": "47b155ca",
   "metadata": {},
   "outputs": [
    {
     "data": {
      "text/plain": [
       "8.88888888888889"
      ]
     },
     "execution_count": 105,
     "metadata": {},
     "output_type": "execute_result"
    }
   ],
   "source": [
    "#분산의 공식\n",
    "2*2*V(X)"
   ]
  },
  {
   "cell_type": "code",
   "execution_count": 106,
   "id": "ce7a5d22",
   "metadata": {},
   "outputs": [],
   "source": [
    "# 2차원 이산형 확률분포\n",
    "x_set = np.arange(2,13)\n",
    "y_set = np.arange(1,7)"
   ]
  },
  {
   "cell_type": "code",
   "execution_count": 107,
   "id": "f99c4239",
   "metadata": {},
   "outputs": [],
   "source": [
    "def f_XY(x,y):\n",
    "    if 1 <= y <=6 and 1 <= x-y <=6:\n",
    "        return y* (x-y)/441\n",
    "    else:\n",
    "        return 0    "
   ]
  },
  {
   "cell_type": "code",
   "execution_count": 108,
   "id": "e01d3e7f",
   "metadata": {},
   "outputs": [],
   "source": [
    "XY=[x_set,y_set, f_XY]"
   ]
  },
  {
   "cell_type": "code",
   "execution_count": 109,
   "id": "1a22bb46",
   "metadata": {},
   "outputs": [
    {
     "data": {
      "text/plain": [
       "<matplotlib.colorbar.Colorbar at 0x29f2cdc2520>"
      ]
     },
     "execution_count": 109,
     "metadata": {},
     "output_type": "execute_result"
    },
    {
     "data": {
      "image/png": "[encoded data removed]",
      "text/plain": [
       "<Figure size 720x576 with 2 Axes>"
      ]
     },
     "metadata": {
      "needs_background": "light"
     },
     "output_type": "display_data"
    }
   ],
   "source": [
    "prob = np.array([[f_XY(x_i,y_j) for y_j in y_set]for x_i in x_set])\n",
    "fig = plt.figure(figsize=(10,8))\n",
    "ax = fig.add_subplot(111)\n",
    "c=ax.pcolor(prob)\n",
    "x = ax.pcolor(prob)\n",
    "ax.set_xticks(np.arange(prob.shape[1]) + 0.5, minor=False)\n",
    "ax.set_yticks(np.arange(prob.shape[0]) + 0.5, minor=False)\n",
    "ax.set_xticklabels(np.arange(1,7) , minor=False)\n",
    "ax.set_yticklabels(np.arange(2,13) , minor=False)\n",
    "#y축을 내림차순으로 역전\n",
    "ax.invert_yaxis()\n",
    "#x축 눈금을 그래프 위쪽에 표시\n",
    "ax.xaxis.tick_top()\n",
    "fig.colorbar(c,ax=ax)"
   ]
  },
  {
   "cell_type": "code",
   "execution_count": 110,
   "id": "3a0b6bbb",
   "metadata": {},
   "outputs": [
    {
     "data": {
      "text/plain": [
       "True"
      ]
     },
     "execution_count": 110,
     "metadata": {},
     "output_type": "execute_result"
    }
   ],
   "source": [
    "np.all(prob >=0)"
   ]
  },
  {
   "cell_type": "code",
   "execution_count": 111,
   "id": "9896bdc1",
   "metadata": {},
   "outputs": [
    {
     "data": {
      "text/plain": [
       "1.0"
      ]
     },
     "execution_count": 111,
     "metadata": {},
     "output_type": "execute_result"
    }
   ],
   "source": [
    "np.sum(prob)"
   ]
  },
  {
   "cell_type": "code",
   "execution_count": 112,
   "id": "46792e05",
   "metadata": {},
   "outputs": [],
   "source": [
    "#주변확률분포 : 확률변수 (X,Y)는 결합확률분포에 의해 동시에 정의되지만 개별 확률변수에만 흥미가 있을 수 있다.\n",
    "# 확률변수 X만의 움직임. 즉 확률변수 X의 확률함수를 알고 싶은 상황\n",
    "def f_X(x):\n",
    "    return np.sum(f_XY(x,y_k) for y_k in y_set)"
   ]
  },
  {
   "cell_type": "code",
   "execution_count": 113,
   "id": "104fddab",
   "metadata": {},
   "outputs": [],
   "source": [
    "def f_Y(y):\n",
    "    return np.sum([f_XY(x_k,y) for x_k in x_set])"
   ]
  },
  {
   "cell_type": "code",
   "execution_count": 114,
   "id": "93551408",
   "metadata": {},
   "outputs": [],
   "source": [
    "X = [x_set, f_X]\n",
    "Y = [y_set, f_Y]"
   ]
  },
  {
   "cell_type": "code",
   "execution_count": 115,
   "id": "f1ca514b",
   "metadata": {},
   "outputs": [
    {
     "data": {
      "text/plain": [
       "[array([ 2,  3,  4,  5,  6,  7,  8,  9, 10, 11, 12]),\n",
       " <function __main__.f_X(x)>]"
      ]
     },
     "execution_count": 115,
     "metadata": {},
     "output_type": "execute_result"
    }
   ],
   "source": [
    "X"
   ]
  },
  {
   "cell_type": "code",
   "execution_count": 116,
   "id": "8a73e32e",
   "metadata": {},
   "outputs": [
    {
     "data": {
      "text/plain": [
       "[array([1, 2, 3, 4, 5, 6]), <function __main__.f_Y(y)>]"
      ]
     },
     "execution_count": 116,
     "metadata": {},
     "output_type": "execute_result"
    }
   ],
   "source": [
    "Y"
   ]
  },
  {
   "cell_type": "code",
   "execution_count": 117,
   "id": "c8bd568d",
   "metadata": {},
   "outputs": [
    {
     "data": {
      "text/plain": [
       "Text(0, 0.5, 'probability')"
      ]
     },
     "execution_count": 117,
     "metadata": {},
     "output_type": "execute_result"
    },
    {
     "data": {
      "image/png": "[encoded data removed]",
      "text/plain": [
       "<Figure size 864x288 with 2 Axes>"
      ]
     },
     "metadata": {
      "needs_background": "light"
     },
     "output_type": "display_data"
    }
   ],
   "source": [
    "prob_x = np.array([f_X(x_k) for x_k in x_set])\n",
    "prob_y = np.array([f_Y(y_k) for y_k in y_set])\n",
    "\n",
    "fig = plt.figure(figsize =(12,4))\n",
    "ax1 = fig.add_subplot(121)\n",
    "ax2 = fig.add_subplot(122)\n",
    "\n",
    "ax1.bar(x_set,prob_x)\n",
    "ax2.bar(y_set,prob_y)\n",
    "ax1.set_title('X_marginal probability distribution')\n",
    "ax1.set_xlabel('Xlabel')\n",
    "ax1.set_ylabel('probability')\n",
    "ax2.set_title('Y_marginal probability distribution')\n",
    "ax2.set_xlabel('Ylabel')\n",
    "ax2.set_ylabel('probability')"
   ]
  },
  {
   "cell_type": "code",
   "execution_count": 118,
   "id": "cfa2a67b",
   "metadata": {},
   "outputs": [
    {
     "data": {
      "text/plain": [
       "8.666666666666666"
      ]
     },
     "execution_count": 118,
     "metadata": {},
     "output_type": "execute_result"
    }
   ],
   "source": [
    "#2차원 이산형 확률분포의 지표\n",
    "# 기댓값 \n",
    "np.sum([x_i * f_XY(x_i,y_j) for x_i in x_set for y_j in y_set])"
   ]
  },
  {
   "cell_type": "code",
   "execution_count": 119,
   "id": "5f3f0260",
   "metadata": {},
   "outputs": [
    {
     "data": {
      "text/plain": [
       "8.666666666666666"
      ]
     },
     "execution_count": 119,
     "metadata": {},
     "output_type": "execute_result"
    }
   ],
   "source": [
    "sum=0\n",
    "for y_j in y_set:\n",
    "    for x_i in x_set:\n",
    "        sum+=((x_i*f_XY(x_i,y_j)))\n",
    "sum"
   ]
  },
  {
   "cell_type": "code",
   "execution_count": 120,
   "id": "78b65a82",
   "metadata": {},
   "outputs": [
    {
     "data": {
      "text/plain": [
       "8.666666666666666"
      ]
     },
     "execution_count": 120,
     "metadata": {},
     "output_type": "execute_result"
    }
   ],
   "source": [
    "def E(XY, g):\n",
    "    x_set,y_set, f_XY = XY\n",
    "    return np.sum([g(x_i,y_j) * f_XY(x_i,y_j) for x_i in x_set for y_j in y_set])\n",
    "mean_X=E(XY,lambda x,y:x)\n",
    "mean_X"
   ]
  },
  {
   "cell_type": "code",
   "execution_count": 123,
   "id": "01333787",
   "metadata": {},
   "outputs": [
    {
     "data": {
      "text/plain": [
       "37.55555555555555"
      ]
     },
     "execution_count": 123,
     "metadata": {},
     "output_type": "execute_result"
    }
   ],
   "source": [
    "E(XY,lambda x,y:y) * mean_X"
   ]
  },
  {
   "cell_type": "code",
   "execution_count": 124,
   "id": "ed4c40ec",
   "metadata": {},
   "outputs": [
    {
     "data": {
      "text/plain": [
       "39.77777777777778"
      ]
     },
     "execution_count": 124,
     "metadata": {},
     "output_type": "execute_result"
    }
   ],
   "source": [
    "np.sum([x_i  * y_j * f_XY(x_i,y_j) for x_i in x_set for y_j in y_set])"
   ]
  },
  {
   "cell_type": "code",
   "execution_count": 126,
   "id": "914364d5",
   "metadata": {},
   "outputs": [],
   "source": [
    "a,b =2,3"
   ]
  },
  {
   "cell_type": "code",
   "execution_count": 127,
   "id": "73035d1b",
   "metadata": {},
   "outputs": [
    {
     "data": {
      "text/plain": [
       "30.333333333333332"
      ]
     },
     "execution_count": 127,
     "metadata": {},
     "output_type": "execute_result"
    }
   ],
   "source": [
    "# 기댓값의 선형성\n",
    "E(XY , lambda x,y: a*x+ b*y)"
   ]
  },
  {
   "cell_type": "code",
   "execution_count": 128,
   "id": "257f5908",
   "metadata": {},
   "outputs": [
    {
     "data": {
      "text/plain": [
       "4.444444444444444"
      ]
     },
     "execution_count": 128,
     "metadata": {},
     "output_type": "execute_result"
    }
   ],
   "source": [
    "#분산 : X의 분산이라면 X관한 편차제곱의 기댓값으로 구할 수 있다.\n",
    "np.sum([(x_i - mean_X)**2 * f_XY(x_i,y_j) for x_i in x_set for y_j in y_set])\n"
   ]
  },
  {
   "cell_type": "code",
   "execution_count": 129,
   "id": "efd1ba5a",
   "metadata": {},
   "outputs": [
    {
     "data": {
      "text/plain": [
       "2.2222222222222223"
      ]
     },
     "execution_count": 129,
     "metadata": {},
     "output_type": "execute_result"
    }
   ],
   "source": [
    "def V(XY, g ):\n",
    "    x_set,y_set, f_XY = XY\n",
    "    mean = E(XY , g)\n",
    "    return np.sum([(g(x_i,y_j) - mean)**2 * f_XY(x_i,y_j) for x_i in x_set for y_j in y_set])\n",
    "V(XY,lambda x,y:y)"
   ]
  },
  {
   "cell_type": "code",
   "execution_count": 130,
   "id": "4f5b264c",
   "metadata": {},
   "outputs": [],
   "source": [
    "# 공분산\n",
    "def Cov(XY):\n",
    "    x_set, y_set, f_XY = XY\n",
    "    mean_Y = E(XY, lambda x,y: y)\n",
    "    mean_X = E(XY, lambda x,y: x)\n",
    "    return np.sum([(x_i -mean_X) * (y_j - mean_Y) * f_XY(x_i,y_j) for x_i in x_set for y_j in y_set ])"
   ]
  },
  {
   "cell_type": "code",
   "execution_count": 131,
   "id": "9d2fc2b7",
   "metadata": {},
   "outputs": [],
   "source": [
    "cov_xy=Cov(XY)"
   ]
  },
  {
   "cell_type": "code",
   "execution_count": 132,
   "id": "84127b8f",
   "metadata": {},
   "outputs": [
    {
     "data": {
      "text/plain": [
       "64.44444444444444"
      ]
     },
     "execution_count": 132,
     "metadata": {},
     "output_type": "execute_result"
    }
   ],
   "source": [
    "V(XY, lambda x,y:a*x+b*y)"
   ]
  },
  {
   "cell_type": "code",
   "execution_count": 133,
   "id": "f906443c",
   "metadata": {},
   "outputs": [],
   "source": [
    "var_X = V(XY, lambda x,y:x)\n",
    "var_Y = V(XY, lambda x,y:y)"
   ]
  },
  {
   "cell_type": "code",
   "execution_count": 134,
   "id": "865deae6",
   "metadata": {},
   "outputs": [
    {
     "data": {
      "text/plain": [
       "64.44444444444443"
      ]
     },
     "execution_count": 134,
     "metadata": {},
     "output_type": "execute_result"
    }
   ],
   "source": [
    "#분산과 공분산의 공식\n",
    "a**2 * var_X + b**2 * var_Y + 2*a*b *cov_xy"
   ]
  },
  {
   "cell_type": "code",
   "execution_count": 135,
   "id": "1c4a1e47",
   "metadata": {},
   "outputs": [
    {
     "data": {
      "text/plain": [
       "0.7071067811865474"
      ]
     },
     "execution_count": 135,
     "metadata": {},
     "output_type": "execute_result"
    }
   ],
   "source": [
    "#확률변수의 상관계수 : 공분산을 각각의 표준편차로 나누어 산출\n",
    "cov_xy/np.sqrt(var_X * var_Y)"
   ]
  },
  {
   "cell_type": "markdown",
   "id": "4226f09d",
   "metadata": {},
   "source": [
    "대표적인 이산형 확률분포"
   ]
  },
  {
   "cell_type": "code",
   "execution_count": 136,
   "id": "c042b0e3",
   "metadata": {},
   "outputs": [],
   "source": [
    "\n",
    "# 그래프를 위한 사용자 함수\n",
    "import numpy as np\n",
    "import matplotlib.pyplot as plt\n",
    "from scipy import stats\n",
    "\n",
    "linestyles = ['-','--',':']\n",
    "\n",
    "def E(X,g=lambda x:x):\n",
    "    x_set, f =X\n",
    "    return np.sum([g(x_k) * f(x_k) for x_k in x_set])\n",
    "\n",
    "def V(X, g=lambda x:x):\n",
    "    x_set, f =X\n",
    "    mean_X = E(X,g)\n",
    "    return np.sum([(g(x_k)-mean_X)**2 *f(x_k) for x_k in x_set])\n",
    "\n",
    "def check_prob(X):  #확률분포를 인수로 가지면 기댓값과 분산 계산 결과를 반환\n",
    "    x_set, f = X\n",
    "    prob = np.array([f(x_k) for x_k in x_set])\n",
    "    assert np.all(prob >= 0), f'minus probability'    #조건식이 True 가 아니면 문구 출력\n",
    "    prob_sum = np.round(np.sum(prob),6)\n",
    "    assert prob_sum == 1, f'sum of probability{prob_sum}'\n",
    "    print(f'expected value {E(X): .4}')\n",
    "    print(f'variance {(V(X)):.4}')\n",
    "    \n",
    "def plot_prob(X): # 확률분포를 인수로 가지며 그 확률변수의 확률함수와 기댓값을 그리기 위한 함수\n",
    "    x_set, f = X\n",
    "    prob = np.array([f(x_k) for x_k in x_set])\n",
    "    fig = plt.figure(figsize=(6,4))\n",
    "    ax = fig.add_subplot(111)\n",
    "    ax.bar(x_set, prob, label ='prob', color='lightsteelblue')\n",
    "    ax.vlines(E(X), 0, 1, label='mean', color='slateblue')\n",
    "    ax.set_xticks(np.append(x_set, E(X)))\n",
    "    ax.set_ylim(0,prob.max()*1.2)\n",
    "    ax.legend()\n",
    "    "
   ]
  },
  {
   "cell_type": "markdown",
   "id": "130f4c63",
   "metadata": {},
   "source": [
    "#### 베르누이 분포\n",
    "- 가장 기본적인 이산형 확률분포로 확률변수가 취할 수 있는 값이 0과1밖에 없는 분포이다.\n",
    "- 베르누이 분포를 따르는 확률변수의 시행을 베르누이 시행이라 하며 1이 나오면 성공, 0이 나오면 실패\n",
    "- 동전을 던져 앞면이 나올 확률, 주사위를 한번 굴려 6이 나오지 않을 확률"
   ]
  },
  {
   "cell_type": "code",
   "execution_count": 137,
   "id": "f835c625",
   "metadata": {},
   "outputs": [],
   "source": [
    "def Bern(p):\n",
    "    x_set = np.array([0,1])\n",
    "    def f(x):\n",
    "        if x in x_set:\n",
    "            return p ** x * (1-p) ** (1-x)\n",
    "        else:\n",
    "            return 0\n",
    "    return x_set, f"
   ]
  },
  {
   "cell_type": "code",
   "execution_count": 138,
   "id": "4cd9988f",
   "metadata": {},
   "outputs": [
    {
     "data": {
      "text/plain": [
       "(array([0, 1]), <function __main__.Bern.<locals>.f(x)>)"
      ]
     },
     "execution_count": 138,
     "metadata": {},
     "output_type": "execute_result"
    }
   ],
   "source": [
    "p=0.3\n",
    "X=Bern(p)\n",
    "X"
   ]
  },
  {
   "cell_type": "code",
   "execution_count": 139,
   "id": "147c2b9c",
   "metadata": {},
   "outputs": [
    {
     "name": "stdout",
     "output_type": "stream",
     "text": [
      "expected value  0.3\n",
      "variance 0.21\n"
     ]
    },
    {
     "data": {
      "image/png": "[encoded data removed]",
      "text/plain": [
       "<Figure size 432x288 with 1 Axes>"
      ]
     },
     "metadata": {
      "needs_background": "light"
     },
     "output_type": "display_data"
    }
   ],
   "source": [
    "check_prob(X)\n",
    "plot_prob(X)"
   ]
  },
  {
   "cell_type": "code",
   "execution_count": 140,
   "id": "abc09596",
   "metadata": {},
   "outputs": [],
   "source": [
    "rv = stats.bernoulli(p)"
   ]
  },
  {
   "cell_type": "code",
   "execution_count": 141,
   "id": "4a7dd946",
   "metadata": {},
   "outputs": [
    {
     "data": {
      "text/plain": [
       "(0.7, 0.3)"
      ]
     },
     "execution_count": 141,
     "metadata": {},
     "output_type": "execute_result"
    }
   ],
   "source": [
    "rv.pmf(0) , rv.pmf(1)"
   ]
  },
  {
   "cell_type": "code",
   "execution_count": 142,
   "id": "41fcff90",
   "metadata": {},
   "outputs": [
    {
     "data": {
      "text/plain": [
       "array([0.7, 0.3])"
      ]
     },
     "execution_count": 142,
     "metadata": {},
     "output_type": "execute_result"
    }
   ],
   "source": [
    "rv.pmf([0,1])"
   ]
  },
  {
   "cell_type": "code",
   "execution_count": 143,
   "id": "ef3e6e49",
   "metadata": {},
   "outputs": [
    {
     "data": {
      "text/plain": [
       "array([0.7, 1. ])"
      ]
     },
     "execution_count": 143,
     "metadata": {},
     "output_type": "execute_result"
    }
   ],
   "source": [
    "rv.cdf([0,1])"
   ]
  },
  {
   "cell_type": "code",
   "execution_count": 144,
   "id": "2766baf7",
   "metadata": {},
   "outputs": [
    {
     "data": {
      "text/plain": [
       "(0.3, 0.21)"
      ]
     },
     "execution_count": 144,
     "metadata": {},
     "output_type": "execute_result"
    }
   ],
   "source": [
    "rv.mean(), rv.var()"
   ]
  },
  {
   "cell_type": "markdown",
   "id": "e23fb35b",
   "metadata": {},
   "source": [
    "# 이항분포\n",
    "- 성공확률이 p인 베르누이 시행을 n번 했을 때의 성공 횟수가 따르는 분포\n",
    "\n",
    "f(x) = $_{n}\\mathrm{C}_{x}p^x(1-p)^{n-x}$ $(x \\in \\{0,1,..,n\\}$)\n",
    "\n",
    "         0                (otherwise)\n"
   ]
  },
  {
   "cell_type": "code",
   "execution_count": 145,
   "id": "0317e569",
   "metadata": {},
   "outputs": [],
   "source": [
    "from scipy.special import comb\n",
    "\n",
    "def Bin(n,p):\n",
    "    x_set = np.arange(n+1)\n",
    "    def f(x):\n",
    "        if x in x_set:\n",
    "            \n",
    "            return comb(n,x) * p **x * (1-p)**(n-x)\n",
    "        else:\n",
    "            return 0\n",
    "    return x_set, f"
   ]
  },
  {
   "cell_type": "code",
   "execution_count": 146,
   "id": "b62ccd36",
   "metadata": {},
   "outputs": [
    {
     "data": {
      "text/plain": [
       "(array([ 0,  1,  2,  3,  4,  5,  6,  7,  8,  9, 10]),\n",
       " <function __main__.Bin.<locals>.f(x)>)"
      ]
     },
     "execution_count": 146,
     "metadata": {},
     "output_type": "execute_result"
    }
   ],
   "source": [
    "n=10\n",
    "p-0.3\n",
    "X=Bin(n,p)\n",
    "X"
   ]
  },
  {
   "cell_type": "code",
   "execution_count": 147,
   "id": "ecee8057",
   "metadata": {},
   "outputs": [
    {
     "name": "stdout",
     "output_type": "stream",
     "text": [
      "이항분포의 기댓값:  30.904761904761905\n",
      "이항분포의 분산:  1881.5071806500378\n"
     ]
    }
   ],
   "source": [
    "# [과제] 동전을 10번 던져 앞면이 3번 나오는 확률의 이항분포의 기대값과 분산을 구하세요.\n",
    "Bin_E= np.sum([x_i * f(x_i) for x_i in x_set])\n",
    "print(\"이항분포의 기댓값: \", Bin_E )\n",
    "print(\"이항분포의 분산: \", np.sum([(x_i - Bin_E)**2 * f(x_i) for x_i in x_set]))"
   ]
  },
  {
   "cell_type": "code",
   "execution_count": 148,
   "id": "4a4624be",
   "metadata": {},
   "outputs": [
    {
     "name": "stdout",
     "output_type": "stream",
     "text": [
      "expected value  3.0\n",
      "variance 2.1\n"
     ]
    },
    {
     "data": {
      "image/png": "[encoded data removed]",
      "text/plain": [
       "<Figure size 432x288 with 1 Axes>"
      ]
     },
     "metadata": {
      "needs_background": "light"
     },
     "output_type": "display_data"
    }
   ],
   "source": [
    "# [과제] 상기 이항분포의 확률함수와 기댓값을 시각화 하세요.\n",
    "check_prob(X)\n",
    "plot_prob(X)"
   ]
  },
  {
   "cell_type": "code",
   "execution_count": 149,
   "id": "9522eae4",
   "metadata": {},
   "outputs": [
    {
     "data": {
      "image/png": "[encoded data removed]",
      "text/plain": [
       "<Figure size 720x432 with 1 Axes>"
      ]
     },
     "metadata": {
      "needs_background": "light"
     },
     "output_type": "display_data"
    }
   ],
   "source": [
    "fig = plt.figure(figsize=(10,6))\n",
    "ax = fig.add_subplot(111)\n",
    "\n",
    "x_set = np.arange(n+1)\n",
    "for p ,ls in zip([0.3 ,0.5, 0.7], linestyles):\n",
    "    rv = stats.binom(n,p)\n",
    "    ax.plot(x_set, rv.pmf(x_set), label=f'p:{p}', ls=ls, color='k')\n",
    "ax.set_xticks(x_set)\n",
    "ax.legend()\n",
    "plt.show()"
   ]
  },
  {
   "cell_type": "markdown",
   "id": "adf7d3bd",
   "metadata": {},
   "source": [
    "# 기하분포\n",
    "- 베르누이 시행에서 처음 성공할때까지 시행 횟수가 따르는 분포\n",
    "- 기하분포의 파라미터는 베르누이 시행의 성공 확률 파라미터 p가 되며 파라미터 p의 기하분포를 Ge(p)로 표기\n",
    "\n",
    "f(x) = $(1-p)^{x-1}p$ $(x \\in \\{1,2,3,/,,,\\})$\n",
    "         0                  otherwise\n",
    "    \n",
    "- 기하분포의 기댓갓과 분산 : E(x) = 1/p , V(x) = (1-p)/p^2\n"
   ]
  },
  {
   "cell_type": "markdown",
   "id": "0044bdb9",
   "metadata": {},
   "source": [
    "#### 위키\n",
    "- 베르누이 시행에서 처음 성공까지 시도한 횟수 X의 분포. 지지집합은 {1, 2, 3...}이다.\n",
    "- 베르누이 시행에서 처음 성공할 때까지 실패한 횟수 Y=X-1의 분포. 지지집합은 {0, 1, 2, ...}이다.\n",
    "- 성공확률 p인 베르누이 시행에 대해, n번 시행시 첫 번째 성공을 얻을 확률\n",
    "\n",
    "    * 예시) 어떤 사람이 운전시험에 합격할 확률을 0.5라할 때 적어도 3번안에 시험에서 합격할 확률은?\n",
    "        * (1-0.5)^(3-1) * 0.5  = 0.125 "
   ]
  },
  {
   "cell_type": "code",
   "execution_count": 150,
   "id": "f4237267",
   "metadata": {},
   "outputs": [],
   "source": [
    "# [과제] 사용자 함수를 구하세요.(단, 확를변수를 1 이상 29 이하인 정수으로 설정)\n",
    "def Ge(p):\n",
    "    x_set=np.arange(1,30)\n",
    "    def f(x):\n",
    "        if x in x_set:\n",
    "            return (1-p)**(x-1) * p\n",
    "        else:\n",
    "            return 0\n",
    "    return x_set, f"
   ]
  },
  {
   "cell_type": "code",
   "execution_count": 151,
   "id": "b141b3ff",
   "metadata": {},
   "outputs": [
    {
     "name": "stdout",
     "output_type": "stream",
     "text": [
      "기하분포의 기댓값:  2.0\n",
      "기하분포의 분산:  2.0\n"
     ]
    }
   ],
   "source": [
    "# [과제] 성공확률이 0.5일때 기하분포의 기댓값과 분산을 구하세요.\n",
    "p=0.5      #p는 베르누이시행의 성공확률파라미터\n",
    "X=Ge(p)\n",
    "print(\"기하분포의 기댓값: \", 1/0.5)    #기하분포의 기댓값은 1/p\n",
    "print(\"기하분포의 분산: \", (1-0.5)/0.5**2)   #분산은 (1-p)/p^2"
   ]
  },
  {
   "cell_type": "code",
   "execution_count": 152,
   "id": "63477935",
   "metadata": {},
   "outputs": [
    {
     "name": "stdout",
     "output_type": "stream",
     "text": [
      "expected value  2.0\n",
      "variance 2.0\n"
     ]
    }
   ],
   "source": [
    "check_prob(X)"
   ]
  },
  {
   "cell_type": "code",
   "execution_count": 153,
   "id": "e7bda90d",
   "metadata": {},
   "outputs": [
    {
     "data": {
      "image/png": "[encoded data removed]",
      "text/plain": [
       "<Figure size 432x288 with 1 Axes>"
      ]
     },
     "metadata": {
      "needs_background": "light"
     },
     "output_type": "display_data"
    }
   ],
   "source": [
    "# [과제] 상기 기하분포의 확률함수와 기댓값을 시각화 하세요.\n",
    "# check_prob(X)\n",
    "plot_prob(X)       #확률변수값이 커질수록 확률은 지수적으로 감소"
   ]
  },
  {
   "cell_type": "code",
   "execution_count": 154,
   "id": "4ed8414a",
   "metadata": {},
   "outputs": [
    {
     "data": {
      "image/png": "[encoded data removed]",
      "text/plain": [
       "<Figure size 720x432 with 1 Axes>"
      ]
     },
     "metadata": {
      "needs_background": "light"
     },
     "output_type": "display_data"
    }
   ],
   "source": [
    "# [과제] 성공확률이 0.2, 0.5, 0.8로 변할 때 확률함수가 변화는 모습을 시각화 하세요\n",
    "# 베르누이 성공확률 p가 달라져도 그래프의 양상이 지수적으로 감소한다는것을 볼 수 있다.\n",
    "fig = plt.figure(figsize=(10,6))\n",
    "ax = fig.add_subplot(111)\n",
    "\n",
    "x_set = np.arange(1,15)\n",
    "for p ,ls in zip([0.2 ,0.5, 0.8], linestyles):\n",
    "    rv = stats.geom(p)\n",
    "    ax.plot(x_set, rv.pmf(x_set), label=f'p:{p}', ls=ls, color='k')\n",
    "ax.set_xticks(x_set)\n",
    "ax.legend()\n",
    "plt.show()"
   ]
  },
  {
   "cell_type": "code",
   "execution_count": 155,
   "id": "8b24a62a",
   "metadata": {},
   "outputs": [
    {
     "name": "stdout",
     "output_type": "stream",
     "text": [
      "expected value  2.0\n",
      "variance 2.0\n"
     ]
    },
    {
     "data": {
      "image/png": "[encoded data removed]",
      "text/plain": [
       "<Figure size 432x288 with 1 Axes>"
      ]
     },
     "metadata": {
      "needs_background": "light"
     },
     "output_type": "display_data"
    }
   ],
   "source": [
    "#어떤 사람이 운전시험에 합격할 확률을 0.5라할 때 적어도 30번안에 시험에서 합격할 확률은?\n",
    "def Ge_1(p):\n",
    "    x_set=np.arange(1,31)\n",
    "    def f(x):\n",
    "        if x in x_set:\n",
    "            return p*((1-p)**(x-1))\n",
    "        else:\n",
    "            return 0\n",
    "    return x_set, f\n",
    "\n",
    "p=0.5\n",
    "X=Ge_1(p)\n",
    "\n",
    "plot_prob(X) \n",
    "check_prob(X)"
   ]
  },
  {
   "cell_type": "code",
   "execution_count": 156,
   "id": "0a993d27",
   "metadata": {},
   "outputs": [
    {
     "data": {
      "image/png": "[encoded data removed]",
      "text/plain": [
       "<Figure size 432x288 with 1 Axes>"
      ]
     },
     "metadata": {
      "needs_background": "light"
     },
     "output_type": "display_data"
    }
   ],
   "source": [
    "# 빨간공7개 검정공3개가 주머니에 있을때 검정이면 성공 빨강이면 실패\n",
    "#이때 1번만에 성공할 확률\n",
    "def Ge_1(p):\n",
    "    x_set= [10]\n",
    "    def f(x):\n",
    "        if x in x_set:\n",
    "            return p*(1-p)**(x-1)\n",
    "        else:\n",
    "            return 0\n",
    "    return x_set, f\n",
    "p=0.25\n",
    "X=Ge_1(p)\n",
    "plot_prob(X)  "
   ]
  },
  {
   "cell_type": "markdown",
   "id": "993ab3b6",
   "metadata": {},
   "source": [
    "#### 포아송 분포\n",
    "- 임의의 사건이 단위 시간당 발생하는 건수가 따르는 확률분포이며 포아송 분포의 파라미터는 $\\lambda$로 나타낸다.\n",
    "- 하루에 평균 2건의 교통사고가 발생하는 지역에서 하루 교통사고 발생건수는 Poi(2)를 따른다.\n",
    "\n",
    "P(X=0) = 2!/0! * $e^{-2}$ = 0.135\n",
    "- 포아송 분포의 기댓값과 분산은 모두 $\\lambda$가 된다.\n",
    "\n",
    "f(x) = $\\lambda^x/x!*e^{-\\lambda}$ $(x \\in \\{0,1,2,...\\})$"
   ]
  },
  {
   "cell_type": "code",
   "execution_count": 157,
   "id": "7ac616ae",
   "metadata": {},
   "outputs": [],
   "source": [
    "# [과제] 사용자 함수를 구하세요.(단, 확를변수를 1 이상 19 이하인 정수으로 설정)\n",
    "import math\n",
    "\n",
    "def Poi(lam):\n",
    "    x_set=np.arange(20)\n",
    "    def f(x):\n",
    "        if x in x_set:\n",
    "            return (lam**x) / (math.factorial(x)) * 1/(2.71828182846)**(lam)\n",
    "        else:\n",
    "            return 0\n",
    "    return x_set , f"
   ]
  },
  {
   "cell_type": "code",
   "execution_count": 158,
   "id": "cfa78822",
   "metadata": {},
   "outputs": [],
   "source": [
    "from scipy.special import factorial\n",
    "\n",
    "def Poi(lam):\n",
    "    x_set=np.arange(20)\n",
    "    def f(x):\n",
    "        if x in x_set:\n",
    "            return np.power(lam,x) / factorial(x) *np.exp(-lam)\n",
    "        else:\n",
    "            return 0\n",
    "    return x_set , f"
   ]
  },
  {
   "cell_type": "code",
   "execution_count": 159,
   "id": "85adb540",
   "metadata": {},
   "outputs": [
    {
     "name": "stdout",
     "output_type": "stream",
     "text": [
      "expected value  3.0\n",
      "variance 3.0\n"
     ]
    }
   ],
   "source": [
    "# [과제] 𝜆 가 0.3일때 포아송분포의 기댓값과 분산을 구하세요.\n",
    "X= Poi(3)\n",
    "# Poi_E = np.sum(x_i * f(x_i) for x_i in x_set)\n",
    "# print(\"포아송 분포의 기댓값: \",Poi_E)\n",
    "# print(\"포아송 분포의 분산: \",np.sum((x_i - Poi_E)**2 * f(x_i) for x_i in x_set))\n",
    "check_prob(X)"
   ]
  },
  {
   "cell_type": "code",
   "execution_count": 160,
   "id": "8e0a5f8f",
   "metadata": {},
   "outputs": [
    {
     "data": {
      "text/plain": [
       "(array([ 0,  1,  2,  3,  4,  5,  6,  7,  8,  9, 10, 11, 12, 13, 14, 15, 16,\n",
       "        17, 18, 19]),\n",
       " <function __main__.Poi.<locals>.f(x)>)"
      ]
     },
     "execution_count": 160,
     "metadata": {},
     "output_type": "execute_result"
    }
   ],
   "source": [
    "X"
   ]
  },
  {
   "cell_type": "code",
   "execution_count": 161,
   "id": "3a770751",
   "metadata": {},
   "outputs": [
    {
     "data": {
      "image/png": "[encoded data removed]",
      "text/plain": [
       "<Figure size 432x288 with 1 Axes>"
      ]
     },
     "metadata": {
      "needs_background": "light"
     },
     "output_type": "display_data"
    }
   ],
   "source": [
    "# [과제] 상기 포아송분포의 확률함수와 기댓값을 시각화 하세요.\n",
    "plot_prob(X)"
   ]
  },
  {
   "cell_type": "code",
   "execution_count": 162,
   "id": "a0c57baf",
   "metadata": {},
   "outputs": [],
   "source": [
    "# [과제]  𝜆 가  3, 5, 8로 변할 때 확률함수가 변화는 모습을 시각화 하세요\n"
   ]
  },
  {
   "cell_type": "code",
   "execution_count": 163,
   "id": "7f89bad0",
   "metadata": {},
   "outputs": [],
   "source": [
    "# [과제] 베르누이, 이항, 기하, 포아송분포의 사례를 각각 2개씩 제시 및 설명 하세요\n",
    "#베르누이\n",
    "#빨간공7개 검정공3개가 주머니에 있을때 빨강이면 성공 검정이면 실패\n",
    "# 게임에서 강화성공이 뜰 확률 10% 아닐확률 90%\n",
    "\n",
    "# 이항분포\n",
    "#4지선다형 문제 5개에서 임의로 답을 선택할때 정답을 선택한 문제수\n",
    "# 게임에서 강화성공이 뜰 확률 10% 아닐확률 90% 에서 10번돌렸을때 성공할 횟수\n",
    "\n",
    "#기하분포\n",
    "#어느 야구선수가 홈런 칠 확률은 0.05라고 한다. 이 야구선수가 6타석만에 홈런칠 확률은?\n",
    "#어떤 사람이 운전시험에 합격할 확률을 0.25라할 때 적어도 3번안에 시험에서 합격할 확률은?\n",
    "\n",
    "#포아송 분포\n",
    "# 고객상담 부서의 1시간 평균 상담건수는 240건일때 1분동안 상담요청 건수가 2건 들어올 경우\n",
    "# 일일 평균매출이 100만 일때 1시간당 매출이 30일 확률"
   ]
  },
  {
   "cell_type": "markdown",
   "id": "917580d9",
   "metadata": {},
   "source": [
    "### 연속형 확률변수\n",
    "- 이산형 확률변수와 연속형 확률변수의 주된 차이는 확률변수가 취할 수 있는 값이 이산적인가 연속적인가이다.\n",
    "- 확률변수의 경우 계산 과정에 적분이 포함된다. 적분은 SciPy의 integral모듈을 사용하여 구현한다.\n",
    "\n",
    "### 연속형 확률분포와 확률밀도함수\n",
    "- 특정값이 될 확률은 0, 특정 값이 범위에 들어갈 확률은 확률밀도함수를 적분하여 계산(적분은 곡선 아래 면적의 크기)\n",
    "- 정규분포는 연속확률분포로 가장 자주 쓰이는 확률분포, 모양은 평균을 중심으로 하나의 봉우리 형태를 띄며 한 집단의 많은 사람들의 키, 몸무게, 시험성적 등의 데이터에 잘 나타나는 분포\n",
    "- 누적분포함수: 확률분포에서 얻은 확률변수 3 이하가 되는 확률. cumulative density function \n",
    "###  stats.norm.cdf(loc=4,scale=0.8,x=3)\n",
    "- 정규분포의 확률밀도 계산\n",
    "   * 확률변수 3일 때의 확률밀도 N(3|4, 0.8**2)\n",
    "### stats.norm.pdf(loc=4,scale=0.8,x=3) \n",
    "Probability density function\n",
    "- 하측확률 : '확률변수 x가 N보다 낮을 확률은 M퍼센트이다'에서 N을 고정하고 M을 구하는 경우 \n",
    "    * 이 때의 M이 하측확률이며 M(확률)을 고정하고 N(변수)을 구하는 경우*이때의 N이 퍼센트포인트 하측확률이 2.5%가 되는 퍼센트 포인트\n",
    "- stats.norm.pdf(x=x)로 하여 loc와 scale을 지정하지 않을 경우 표준정규분포가 됨. probability density function\n",
    "- stats.norm.rvs()함수는 정규확률분포로 부터 난수 생성\n"
   ]
  },
  {
   "cell_type": "code",
   "execution_count": 164,
   "id": "25bce60b",
   "metadata": {},
   "outputs": [],
   "source": [
    "import numpy as np\n",
    "import matplotlib.pyplot as plt\n",
    "from scipy import integrate\n",
    "from scipy import stats\n",
    "import scipy as sp\n",
    "import seaborn as sns\n",
    "import warnings\n",
    "warnings.filterwarnings('ignore')"
   ]
  },
  {
   "cell_type": "code",
   "execution_count": 201,
   "id": "cef973b0",
   "metadata": {},
   "outputs": [
    {
     "data": {
      "text/plain": [
       "Text(0.5, 1.0, '확률밀도함수')"
      ]
     },
     "execution_count": 201,
     "metadata": {},
     "output_type": "execute_result"
    },
    {
     "data": {
      "image/png": "[encoded data removed]",
      "text/plain": [
       "<Figure size 576x432 with 1 Axes>"
      ]
     },
     "metadata": {
      "needs_background": "light"
     },
     "output_type": "display_data"
    }
   ],
   "source": [
    "from matplotlib import rc\n",
    "rc('font',family='Malgun Gothic')\n",
    "plt.rcParams['axes.unicode_minus'] = False\n",
    "rv = stats.norm(loc=0,scale=1)\n",
    "xx = np.linspace(-3,3,100)\n",
    "pdf = rv.pdf(xx)\n",
    "plt.figure(figsize=(8,6))\n",
    "plt.plot(xx,pdf)\n",
    "plt.title('확률밀도함수')"
   ]
  },
  {
   "cell_type": "code",
   "execution_count": 202,
   "id": "83aa1473",
   "metadata": {},
   "outputs": [
    {
     "data": {
      "text/plain": [
       "Text(0.5, 1.0, '누적분포함수')"
      ]
     },
     "execution_count": 202,
     "metadata": {},
     "output_type": "execute_result"
    },
    {
     "data": {
      "image/png": "[encoded data removed]",
      "text/plain": [
       "<Figure size 576x432 with 1 Axes>"
      ]
     },
     "metadata": {
      "needs_background": "light"
     },
     "output_type": "display_data"
    }
   ],
   "source": [
    "xx = np.linspace(-4,4,100)\n",
    "cdf = rv.cdf(xx)\n",
    "plt.figure(figsize=(8,6))\n",
    "plt.plot(xx,cdf)\n",
    "plt.title('누적분포함수')\n"
   ]
  },
  {
   "cell_type": "code",
   "execution_count": 167,
   "id": "1a56a019",
   "metadata": {},
   "outputs": [],
   "source": [
    "x_range = np.array([0,1])\n",
    "def f(x):\n",
    "    if x_range[0] <= x <=x_range[1]:\n",
    "        return 2 * x\n",
    "    else:\n",
    "        return 0\n",
    "    \n",
    "X = [x_range, f]\n",
    "    "
   ]
  },
  {
   "cell_type": "code",
   "execution_count": 168,
   "id": "23e3506f",
   "metadata": {},
   "outputs": [
    {
     "data": {
      "text/plain": [
       "<matplotlib.legend.Legend at 0x29f2d323f40>"
      ]
     },
     "execution_count": 168,
     "metadata": {},
     "output_type": "execute_result"
    },
    {
     "data": {
      "image/png": "[encoded data removed]",
      "text/plain": [
       "<Figure size 720x432 with 1 Axes>"
      ]
     },
     "metadata": {
      "needs_background": "light"
     },
     "output_type": "display_data"
    }
   ],
   "source": [
    "xs = np.linspace(x_range[0],x_range[1],100)\n",
    "fig = plt.figure(figsize=(10,6))\n",
    "ax = fig.add_subplot(111)\n",
    "\n",
    "ax.plot(xs, [f(x) for x in xs], label=\"f(x)\", color=\"springgreen\")\n",
    "ax.hlines(0,-0.2,1.2,alpha=0.3)\n",
    "ax.vlines(0,-0.2,1.2,alpha=0.3)\n",
    "ax.vlines(xs.max(),0,2.2,linestyles=\":\",color=\"b\")\n",
    "#\n",
    "xs = np.linspace(0.4,0.6,100)\n",
    "ax.fill_between(xs,[f(x) for x in xs], label=\"prob\", color=\"palegreen\")\n",
    "\n",
    "ax.set_xticks(np.arange(-0.2,1.3,0.2))\n",
    "ax.set_xlim(-0.1, 1.1)\n",
    "ax.set_ylim(-0.2,2.1)\n",
    "ax.legend()"
   ]
  },
  {
   "cell_type": "code",
   "execution_count": 169,
   "id": "082a2486",
   "metadata": {},
   "outputs": [
    {
     "data": {
      "text/plain": [
       "(0.19999999999999996, 2.2204460492503127e-15)"
      ]
     },
     "execution_count": 169,
     "metadata": {},
     "output_type": "execute_result"
    }
   ],
   "source": [
    "#첫번째 인수는 피적분 함수, 두번째인수는 세번째 인수는 적분범위\n",
    "#quad 함수는 적분값과 추정오차 반환\n",
    "integrate.quad(f, 0.4, 0.6)"
   ]
  },
  {
   "cell_type": "markdown",
   "id": "3e717b77",
   "metadata": {},
   "source": [
    "연속형 확률변수에서는 확률의 성질이 수식을 만족해야함\n",
    "- f(x)가 항상 0이상의 값을 취함   = 확률은 음수일수 없다\n",
    "- f(x)에 대하여 무한대 범위의 적분 결과는 1   = 확률의 합은 1"
   ]
  },
  {
   "cell_type": "code",
   "execution_count": 170,
   "id": "b7807dc3",
   "metadata": {},
   "outputs": [
    {
     "data": {
      "text/plain": [
       "0"
      ]
     },
     "execution_count": 170,
     "metadata": {},
     "output_type": "execute_result"
    }
   ],
   "source": [
    "from scipy.optimize import minimize_scalar\n",
    "\n",
    "res = minimize_scalar(f)\n",
    "res.fun # 함수의 최솟값은 fun이라는 인스턴스 변수로 구함"
   ]
  },
  {
   "cell_type": "code",
   "execution_count": 171,
   "id": "bdf81dd8",
   "metadata": {},
   "outputs": [
    {
     "data": {
      "text/plain": [
       "1.0"
      ]
     },
     "execution_count": 171,
     "metadata": {},
     "output_type": "execute_result"
    }
   ],
   "source": [
    "integrate.quad(f,-np.inf,np.inf)[0]"
   ]
  },
  {
   "cell_type": "code",
   "execution_count": 172,
   "id": "2bfa2be2",
   "metadata": {},
   "outputs": [
    {
     "data": {
      "text/plain": [
       "0.22831135673627742"
      ]
     },
     "execution_count": 172,
     "metadata": {},
     "output_type": "execute_result"
    }
   ],
   "source": [
    "#정규분포의 확률밀도 계산\n",
    "#확률변수 3일때 확률밀도 N(3|4.0, 0.8**2)\n",
    "x=3\n",
    "mu = 4\n",
    "sigma = 0.8 \n",
    "\n",
    "1/(np.sqrt(2* np.pi * sigma **2)) * sp.exp(-((x-mu)**2) / (2 * sigma**2))"
   ]
  },
  {
   "cell_type": "code",
   "execution_count": 173,
   "id": "b5d2bbf8",
   "metadata": {},
   "outputs": [
    {
     "data": {
      "text/plain": [
       "0.2283113567362774"
      ]
     },
     "execution_count": 173,
     "metadata": {},
     "output_type": "execute_result"
    }
   ],
   "source": [
    "stats.norm.pdf(loc=4,scale=0.8,x=3)"
   ]
  },
  {
   "cell_type": "code",
   "execution_count": 174,
   "id": "a22a0c37",
   "metadata": {},
   "outputs": [
    {
     "data": {
      "text/plain": [
       "0.24197072451914337"
      ]
     },
     "execution_count": 174,
     "metadata": {},
     "output_type": "execute_result"
    }
   ],
   "source": [
    "stats.norm.pdf(loc=0,scale=1,x=1) # 표준정규분포에서 x가 1일때 값"
   ]
  },
  {
   "cell_type": "code",
   "execution_count": 175,
   "id": "72e117fc",
   "metadata": {},
   "outputs": [
    {
     "data": {
      "text/plain": [
       "0.2283113567362774"
      ]
     },
     "execution_count": 175,
     "metadata": {},
     "output_type": "execute_result"
    }
   ],
   "source": [
    "# 정규분포 인스턴스 생성\n",
    "norm_dist = stats.norm(loc=4,scale=0.8)\n",
    "norm_dist.pdf(x=3)"
   ]
  },
  {
   "cell_type": "code",
   "execution_count": 176,
   "id": "cd197e2b",
   "metadata": {},
   "outputs": [
    {
     "data": {
      "text/plain": [
       "array([1. , 1.1, 1.2, 1.3, 1.4, 1.5, 1.6, 1.7, 1.8, 1.9, 2. , 2.1, 2.2,\n",
       "       2.3, 2.4, 2.5, 2.6, 2.7, 2.8, 2.9, 3. , 3.1, 3.2, 3.3, 3.4, 3.5,\n",
       "       3.6, 3.7, 3.8, 3.9, 4. , 4.1, 4.2, 4.3, 4.4, 4.5, 4.6, 4.7, 4.8,\n",
       "       4.9, 5. , 5.1, 5.2, 5.3, 5.4, 5.5, 5.6, 5.7, 5.8, 5.9, 6. , 6.1,\n",
       "       6.2, 6.3, 6.4, 6.5, 6.6, 6.7, 6.8, 6.9, 7. ])"
      ]
     },
     "execution_count": 176,
     "metadata": {},
     "output_type": "execute_result"
    }
   ],
   "source": [
    "x_plot = np.arange(1,7.1,0.1)\n",
    "x_plot"
   ]
  },
  {
   "cell_type": "code",
   "execution_count": 177,
   "id": "f2cd144b",
   "metadata": {},
   "outputs": [
    {
     "data": {
      "text/plain": [
       "[<matplotlib.lines.Line2D at 0x29f2d8f2b20>]"
      ]
     },
     "execution_count": 177,
     "metadata": {},
     "output_type": "execute_result"
    },
    {
     "data": {
      "image/png": "[encoded data removed]",
      "text/plain": [
       "<Figure size 576x432 with 1 Axes>"
      ]
     },
     "metadata": {
      "needs_background": "light"
     },
     "output_type": "display_data"
    }
   ],
   "source": [
    "mu = np.mean(x_plot)\n",
    "std = np.std(x_plot)\n",
    "rv = stats.norm(loc = mu,scale = std)\n",
    "xx = np.linspace(0,8,70)    # 0부터 8까지 70개로 나눔\n",
    "pdf = rv.pdf(xx)\n",
    "plt.figure(figsize=(8,6))\n",
    "plt.plot(xx,pdf)"
   ]
  },
  {
   "cell_type": "code",
   "execution_count": 178,
   "id": "cecc1ead",
   "metadata": {},
   "outputs": [
    {
     "name": "stdout",
     "output_type": "stream",
     "text": [
      "Wall time: 2.96 ms\n"
     ]
    },
    {
     "data": {
      "text/plain": [
       "array([5.29947629, 3.51059487, 3.5774626 , 3.1416251 , 4.6923261 ,\n",
       "       2.15876904, 5.39584941, 3.39103448, 4.25523128, 3.8005037 ])"
      ]
     },
     "execution_count": 178,
     "metadata": {},
     "output_type": "execute_result"
    }
   ],
   "source": [
    "%%time\n",
    "# 표본이 어떤값 이하가 되는 비율\n",
    "np.random.seed(1)\n",
    "simulated_sample = stats.norm.rvs(loc = 4, scale=0.8,size=100000)\n",
    "simulated_sample[:10]"
   ]
  },
  {
   "cell_type": "code",
   "execution_count": 179,
   "id": "a0d55453",
   "metadata": {},
   "outputs": [
    {
     "data": {
      "text/html": [
       "<div>\n",
       "<style scoped>\n",
       "    .dataframe tbody tr th:only-of-type {\n",
       "        vertical-align: middle;\n",
       "    }\n",
       "\n",
       "    .dataframe tbody tr th {\n",
       "        vertical-align: top;\n",
       "    }\n",
       "\n",
       "    .dataframe thead th {\n",
       "        text-align: right;\n",
       "    }\n",
       "</style>\n",
       "<table border=\"1\" class=\"dataframe\">\n",
       "  <thead>\n",
       "    <tr style=\"text-align: right;\">\n",
       "      <th></th>\n",
       "      <th>0</th>\n",
       "    </tr>\n",
       "  </thead>\n",
       "  <tbody>\n",
       "    <tr>\n",
       "      <th>count</th>\n",
       "      <td>100000.000000</td>\n",
       "    </tr>\n",
       "    <tr>\n",
       "      <th>mean</th>\n",
       "      <td>4.004202</td>\n",
       "    </tr>\n",
       "    <tr>\n",
       "      <th>std</th>\n",
       "      <td>0.798667</td>\n",
       "    </tr>\n",
       "    <tr>\n",
       "      <th>min</th>\n",
       "      <td>0.538490</td>\n",
       "    </tr>\n",
       "    <tr>\n",
       "      <th>25%</th>\n",
       "      <td>3.465533</td>\n",
       "    </tr>\n",
       "    <tr>\n",
       "      <th>50%</th>\n",
       "      <td>4.004800</td>\n",
       "    </tr>\n",
       "    <tr>\n",
       "      <th>75%</th>\n",
       "      <td>4.539819</td>\n",
       "    </tr>\n",
       "    <tr>\n",
       "      <th>max</th>\n",
       "      <td>7.334494</td>\n",
       "    </tr>\n",
       "  </tbody>\n",
       "</table>\n",
       "</div>"
      ],
      "text/plain": [
       "                   0\n",
       "count  100000.000000\n",
       "mean        4.004202\n",
       "std         0.798667\n",
       "min         0.538490\n",
       "25%         3.465533\n",
       "50%         4.004800\n",
       "75%         4.539819\n",
       "max         7.334494"
      ]
     },
     "execution_count": 179,
     "metadata": {},
     "output_type": "execute_result"
    }
   ],
   "source": [
    "import pandas as pd\n",
    "df = pd.DataFrame(simulated_sample)\n",
    "df.describe()"
   ]
  },
  {
   "cell_type": "code",
   "execution_count": 180,
   "id": "d7451f27",
   "metadata": {},
   "outputs": [
    {
     "name": "stdout",
     "output_type": "stream",
     "text": [
      "0    27151.549504\n",
      "dtype: float64\n",
      "0.10371\n"
     ]
    }
   ],
   "source": [
    "# Q. 3보다 작은 샘플의 합계와 3이하가 되는 확률\n",
    "\n",
    "print(df.loc[df[0]<=3].sum())\n",
    "print(len(df.loc[df[0]<=3])/len(simulated_sample))"
   ]
  },
  {
   "cell_type": "code",
   "execution_count": 181,
   "id": "b6b6a94c",
   "metadata": {},
   "outputs": [
    {
     "data": {
      "text/plain": [
       "0.10564977366685535"
      ]
     },
     "execution_count": 181,
     "metadata": {},
     "output_type": "execute_result"
    }
   ],
   "source": [
    "#누적분포함수: 확률분포에서 얻은 확률변수 3이하가 되는 확률(loc=4,scale=0.8)\n",
    "rv=stats.norm(loc=4,scale=0.8)\n",
    "# rv=stats.norm.cdf(loc=4,scale=0.8, x=3)\n",
    "rv.cdf(3)"
   ]
  },
  {
   "cell_type": "code",
   "execution_count": 182,
   "id": "85637633",
   "metadata": {},
   "outputs": [
    {
     "data": {
      "text/plain": [
       "0.5"
      ]
     },
     "execution_count": 182,
     "metadata": {},
     "output_type": "execute_result"
    }
   ],
   "source": [
    "# 정규분포는 평균에 대해 좌우대칭 \n",
    "# 데이터가 평균값 이하가 될 확률은? 50%\n",
    "rv=stats.norm.cdf(loc=4, scale=1 ,x=4)\n",
    "rv"
   ]
  },
  {
   "cell_type": "code",
   "execution_count": 183,
   "id": "2b5199db",
   "metadata": {},
   "outputs": [
    {
     "data": {
      "text/plain": [
       "2.4320288123679563"
      ]
     },
     "execution_count": 183,
     "metadata": {},
     "output_type": "execute_result"
    }
   ],
   "source": [
    "#하측확률: '확률변수 X가 N보다 작을 화률은 M퍼센트이다' 에서 M을 고정하고 N을 구하는 경우\n",
    "# 하측확률 -> 퍼센트포인트\n",
    "stats.norm.ppf(loc=4,scale=0.8,q=0.025)"
   ]
  },
  {
   "cell_type": "code",
   "execution_count": 184,
   "id": "fcaf1e22",
   "metadata": {},
   "outputs": [
    {
     "data": {
      "text/plain": [
       "0.024999999999999977"
      ]
     },
     "execution_count": 184,
     "metadata": {},
     "output_type": "execute_result"
    }
   ],
   "source": [
    "# 퍼센트포인트 -> 하측확률\n",
    "stats.norm.cdf(loc=4, scale=0.8, x=2.4320288123679563)"
   ]
  },
  {
   "cell_type": "code",
   "execution_count": 185,
   "id": "6dac8bb0",
   "metadata": {},
   "outputs": [
    {
     "data": {
      "text/plain": [
       "4.0"
      ]
     },
     "execution_count": 185,
     "metadata": {},
     "output_type": "execute_result"
    }
   ],
   "source": [
    "# 하측확률이 50%가 되는 퍼센트포인트는 평균과 일치\n",
    "stats.norm.ppf(loc=4, scale=0.8, q=0.5)"
   ]
  },
  {
   "cell_type": "code",
   "execution_count": 203,
   "id": "bc307396",
   "metadata": {},
   "outputs": [],
   "source": [
    "#[과제] 평균이 100, 표준편차 10인 정규분포에서 하측확률이 0.3일 경우의 퍼센트포인트를 구하고 그 ppf를 적용하여 하측확률을 구하세요\n"
   ]
  },
  {
   "cell_type": "code",
   "execution_count": null,
   "id": "f4033f76",
   "metadata": {},
   "outputs": [],
   "source": [
    "#[과제]상기 정규분포의 확률밀도함수와 누적분포함수를 시각화하여 하측확률과 pp간의 관계를 구하시오"
   ]
  },
  {
   "cell_type": "markdown",
   "id": "67fa0fe2",
   "metadata": {},
   "source": [
    "대표적인 연속형 확률분포"
   ]
  },
  {
   "cell_type": "code",
   "execution_count": 209,
   "id": "306be0d2",
   "metadata": {},
   "outputs": [],
   "source": [
    "from scipy import stats, integrate\n",
    "# from scipy\n",
    "\n",
    "linestyels=['-','--',':']\n",
    "\n",
    "def E(X, g=lambda x:x):\n",
    "    x_range , f =X\n",
    "    def integrand(x):\n",
    "        return g(x) * f(x)\n",
    "    return integrate.quad(integrand, -np.inf,np.inf)[0]\n",
    "\n",
    "def V(X, g=lambda x:x):\n",
    "    x_ragne, f =X\n",
    "    mean = E(X,g)\n",
    "    def integrand(x):\n",
    "        return (g(x) - mean) **2 *f(x)\n",
    "    return integrate.quad(integrand, -np.inf , np.inf)[0]\n",
    "\n",
    "def check_prob(X):\n",
    "    x_range , f =X\n",
    "    f_min = minimize_scalar(f).fun\n",
    "    assert f_min >= 0 , 'density function is minus value'\n",
    "    prob_sum = np.round(integrate.quad(f,-np.inf, np.inf)[0],6)\n",
    "    assert prob_sum ==1 , f'sum of probability is {prob_sum}'\n",
    "    print(f'expected value {E(X):.3f}')\n",
    "    print(f'variance {V(X): .3f}')\n",
    "    \n",
    "def plot_prob(X,x_min,x_max):\n",
    "    x_range, f =X\n",
    "    def F(x):\n",
    "        return integrate.quad(f,-np.inf,x)[0]\n",
    "    xs = np.linspace(x_min,x_max,100)\n",
    "    fig = plt.figure(figsize=(10,6))\n",
    "    ax = fig.add_subplot(111)\n",
    "    ax.plot(xs,[f(x) for x in xs], label='f(x)', color='rebeccapurple')\n",
    "    ax.plot(xs, [F(x) for x in xs], label='F(x)', ls='--',color='purple')\n",
    "    ax.legend()"
   ]
  },
  {
   "cell_type": "markdown",
   "id": "b27e60d5",
   "metadata": {},
   "source": [
    "#### 정규분포\n",
    "- 통계분석에서 자주 사용되는 중요한 확률분포로 자연계에서 일어나는 수많은 현상을 표현. 가우스분포라고도 부름\n",
    "- 정규분포가 취할 수 있는 값은 실수 전체로 파라미터는 평균과 분산 두가지이다."
   ]
  },
  {
   "cell_type": "code",
   "execution_count": 190,
   "id": "57b761ca",
   "metadata": {},
   "outputs": [],
   "source": [
    "def N(mu, sigma):\n",
    "    x_range = [-np.inf, np.inf]\n",
    "    def f(x):\n",
    "        return  1/ (np.sqrt(2* np.pi*sigma**2)) *  np.exp((-(x-mu)**2) / (2*sigma**2))\n",
    "                                                          \n",
    "    return x_range,f"
   ]
  },
  {
   "cell_type": "code",
   "execution_count": 191,
   "id": "272c1e8a",
   "metadata": {},
   "outputs": [
    {
     "name": "stdout",
     "output_type": "stream",
     "text": [
      "expected value2.000\n",
      "variance  0.250\n"
     ]
    }
   ],
   "source": [
    "mu, sigma =2, 0.5\n",
    "X =N(mu,sigma)\n",
    "check_prob(X)"
   ]
  },
  {
   "cell_type": "code",
   "execution_count": 192,
   "id": "709fdb91",
   "metadata": {},
   "outputs": [
    {
     "data": {
      "image/png": "[encoded data removed]",
      "text/plain": [
       "<Figure size 720x432 with 1 Axes>"
      ]
     },
     "metadata": {
      "needs_background": "light"
     },
     "output_type": "display_data"
    }
   ],
   "source": [
    "plot_prob(X,0,4)"
   ]
  },
  {
   "cell_type": "code",
   "execution_count": 193,
   "id": "148109a4",
   "metadata": {},
   "outputs": [],
   "source": [
    "rv = stats.norm(2,0.5)"
   ]
  },
  {
   "cell_type": "code",
   "execution_count": 194,
   "id": "542a59fd",
   "metadata": {},
   "outputs": [
    {
     "data": {
      "text/plain": [
       "(2.0, 0.25)"
      ]
     },
     "execution_count": 194,
     "metadata": {},
     "output_type": "execute_result"
    }
   ],
   "source": [
    "#기댓값과 분산\n",
    "rv.mean(), rv.var()"
   ]
  },
  {
   "cell_type": "code",
   "execution_count": 195,
   "id": "a56d146f",
   "metadata": {},
   "outputs": [
    {
     "data": {
      "text/plain": [
       "0.7978845608028654"
      ]
     },
     "execution_count": 195,
     "metadata": {},
     "output_type": "execute_result"
    }
   ],
   "source": [
    "#밀도함수  \n",
    "rv.pdf(2)"
   ]
  },
  {
   "cell_type": "code",
   "execution_count": 196,
   "id": "d37b34fa",
   "metadata": {},
   "outputs": [
    {
     "data": {
      "text/plain": [
       "0.27425311775007355"
      ]
     },
     "execution_count": 196,
     "metadata": {},
     "output_type": "execute_result"
    }
   ],
   "source": [
    "# 분포함수: 확률변수 x가 입력값보다 작은값이 되는 확률P\n",
    "rv.cdf(1.7)"
   ]
  },
  {
   "cell_type": "code",
   "execution_count": 197,
   "id": "991e48c9",
   "metadata": {},
   "outputs": [
    {
     "data": {
      "text/plain": [
       "2.2622002563540207"
      ]
     },
     "execution_count": 197,
     "metadata": {},
     "output_type": "execute_result"
    }
   ],
   "source": [
    "# isf메서드 : 상위 100a%점 \n",
    "rv.isf(0.3)   #상위 30%"
   ]
  },
  {
   "cell_type": "code",
   "execution_count": 198,
   "id": "f5217024",
   "metadata": {},
   "outputs": [
    {
     "data": {
      "text/plain": [
       "(1.1775731865242636, 2.822426813475736)"
      ]
     },
     "execution_count": 198,
     "metadata": {},
     "output_type": "execute_result"
    }
   ],
   "source": [
    "# 90% 구간을 구하세요\n",
    "rv.interval(0.9)"
   ]
  },
  {
   "cell_type": "code",
   "execution_count": 199,
   "id": "3ca47970",
   "metadata": {},
   "outputs": [
    {
     "data": {
      "text/plain": [
       "(1.1775731865242638, 2.8224268134757367)"
      ]
     },
     "execution_count": 199,
     "metadata": {},
     "output_type": "execute_result"
    }
   ],
   "source": [
    "# 또는  하위 5% , 상위 5%\n",
    "rv.isf(0.95) , rv.isf(0.05) "
   ]
  },
  {
   "cell_type": "code",
   "execution_count": 200,
   "id": "9c5fc231",
   "metadata": {},
   "outputs": [
    {
     "data": {
      "text/plain": [
       "0.5"
      ]
     },
     "execution_count": 200,
     "metadata": {},
     "output_type": "execute_result"
    }
   ],
   "source": [
    "#pp가 2일때 하측확률\n",
    "rv.cdf(x=2)"
   ]
  },
  {
   "cell_type": "code",
   "execution_count": null,
   "id": "90d23b73",
   "metadata": {},
   "outputs": [],
   "source": [
    "# [과제] N(mean, sigma**2) 파라미터를 각각 (0,1), (0,4), (1,1)로 변경할 때의 정규분포를 비교할 수 있도록 시각화 하세요 "
   ]
  },
  {
   "cell_type": "markdown",
   "id": "1217e7a7",
   "metadata": {},
   "source": [
    "#### 지수분포\n",
    "- 어떤 사건이 발생하는 간격이 따르는 분포이며 확률변수가 취할 수 있는 값은 0이상의 실수\n",
    "- 지수분포의 파라미터는 $\\lambda$로 양의 실수이며 EX($\\lambda$)로 표기한다.\n",
    "-  EX($\\lambda$)는 단위시간당 평균 $\\lambda$번 발생하는 사건의 발생 간격에 따르는 확률분포이다."
   ]
  },
  {
   "cell_type": "code",
   "execution_count": 205,
   "id": "71dcf187",
   "metadata": {},
   "outputs": [],
   "source": [
    "def Ex(lam):\n",
    "    x_range = [0,np.inf]\n",
    "    def f(x):\n",
    "        if x >=0:\n",
    "            return lam * np.exp(-lam * x)\n",
    "        else:\n",
    "            return 0\n",
    "    return x_range, f"
   ]
  },
  {
   "cell_type": "code",
   "execution_count": 210,
   "id": "5f4209be",
   "metadata": {},
   "outputs": [
    {
     "name": "stdout",
     "output_type": "stream",
     "text": [
      "expected value 0.333\n",
      "variance  0.111\n"
     ]
    }
   ],
   "source": [
    "lam = 3\n",
    "X = Ex(lam)\n",
    "check_prob(X)"
   ]
  },
  {
   "cell_type": "code",
   "execution_count": 212,
   "id": "b374c2ae",
   "metadata": {},
   "outputs": [
    {
     "data": {
      "image/png": "[encoded data removed]",
      "text/plain": [
       "<Figure size 720x432 with 1 Axes>"
      ]
     },
     "metadata": {
      "needs_background": "light"
     },
     "output_type": "display_data"
    }
   ],
   "source": [
    "plot_prob(X, 0, 2)"
   ]
  },
  {
   "cell_type": "code",
   "execution_count": null,
   "id": "ba8ed38c",
   "metadata": {},
   "outputs": [],
   "source": [
    "# [과제] 파라미터 람다가 1,2,3으로 변경시 지수분포의 확률분포함수를 시각화 하세요."
   ]
  },
  {
   "cell_type": "markdown",
   "id": "b6228d0f",
   "metadata": {},
   "source": [
    "#### 카이제곱분포\n",
    "- $Z_1, Z_2, ... Z_n$이 서로 독립이고 N(0,1)을 따르고 있을 떄 그 제곱합의 확률분포을 자유도가 n인 카이제곱분포라고 한다.\n",
    "- 카이제곱분포는 분산의 구간 추정이나 독립성 검정에서 사용되는 확률분포이다."
   ]
  },
  {
   "cell_type": "code",
   "execution_count": null,
   "id": "282ec923",
   "metadata": {},
   "outputs": [],
   "source": []
  }
 ],
 "metadata": {
  "kernelspec": {
   "display_name": "Python 3 (ipykernel)",
   "language": "python",
   "name": "python3"
  },
  "language_info": {
   "codemirror_mode": {
    "name": "ipython",
    "version": 3
   },
   "file_extension": ".py",
   "mimetype": "text/x-python",
   "name": "python",
   "nbconvert_exporter": "python",
   "pygments_lexer": "ipython3",
   "version": "3.8.12"
  }
 },
 "nbformat": 4,
 "nbformat_minor": 5
}
