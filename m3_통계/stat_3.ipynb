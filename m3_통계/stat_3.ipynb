{
 "cells": [
  {
   "cell_type": "markdown",
   "id": "4c270c0c",
   "metadata": {},
   "source": [
    "이산형 확률분포"
   ]
  },
  {
   "cell_type": "code",
   "execution_count": 1,
   "id": "01dfff74",
   "metadata": {},
   "outputs": [],
   "source": [
    "# 1차원 이산확률분포\n",
    "import numpy as np\n",
    "import matplotlib.pyplot as plt\n",
    "\n",
    "x_set = np.array([1,2,3,4,5,6])\n",
    "\n",
    "def f(x):\n",
    "    if x in x_set:\n",
    "        return x / 21\n",
    "    else:\n",
    "        return 0\n",
    "X = [x_set, f]"
   ]
  },
  {
   "cell_type": "code",
   "execution_count": 2,
   "id": "3556085f",
   "metadata": {},
   "outputs": [
    {
     "name": "stdout",
     "output_type": "stream",
     "text": [
      "[0.04761905 0.0952381  0.14285714 0.19047619 0.23809524 0.28571429] \n",
      "\n"
     ]
    },
    {
     "data": {
      "text/plain": [
       "{1: 0.047619047619047616,\n",
       " 2: 0.09523809523809523,\n",
       " 3: 0.14285714285714285,\n",
       " 4: 0.19047619047619047,\n",
       " 5: 0.23809523809523808,\n",
       " 6: 0.2857142857142857}"
      ]
     },
     "execution_count": 2,
     "metadata": {},
     "output_type": "execute_result"
    }
   ],
   "source": [
    "prob = np.array([f(x_k) for x_k in x_set])\n",
    "print(prob,'\\n')\n",
    "dict(zip(x_set,prob))"
   ]
  },
  {
   "cell_type": "code",
   "execution_count": 9,
   "id": "f744e6bd",
   "metadata": {},
   "outputs": [
    {
     "data": {
      "image/png": "[encoded data removed]",
      "text/plain": [
       "<Figure size 504x360 with 1 Axes>"
      ]
     },
     "metadata": {
      "needs_background": "light"
     },
     "output_type": "display_data"
    }
   ],
   "source": [
    "plt.figure(figsize=(7,5))\n",
    "plt.bar(x_set, prob, color= 'cornflowerblue')\n",
    "plt.xlabel('X')\n",
    "plt.ylabel('Probability')\n",
    "plt.show()\n"
   ]
  },
  {
   "cell_type": "code",
   "execution_count": 11,
   "id": "79cc9dcb",
   "metadata": {},
   "outputs": [
    {
     "data": {
      "text/plain": [
       "Text(0.5, 1.0, 'Bar Graph')"
      ]
     },
     "execution_count": 11,
     "metadata": {},
     "output_type": "execute_result"
    },
    {
     "data": {
      "image/png": "[encoded data removed]",
      "text/plain": [
       "<Figure size 432x288 with 1 Axes>"
      ]
     },
     "metadata": {
      "needs_background": "light"
     },
     "output_type": "display_data"
    }
   ],
   "source": [
    "import warnings\n",
    "warnings.filterwarnings('ignore')\n",
    "import seaborn as sns\n",
    "sns.barplot(x_set,prob)\n",
    "plt.title('Bar Graph', fontsize=30)"
   ]
  },
  {
   "cell_type": "code",
   "execution_count": 12,
   "id": "fc564498",
   "metadata": {},
   "outputs": [
    {
     "data": {
      "text/plain": [
       "True"
      ]
     },
     "execution_count": 12,
     "metadata": {},
     "output_type": "execute_result"
    }
   ],
   "source": [
    "np.all(prob>=0)"
   ]
  },
  {
   "cell_type": "code",
   "execution_count": 13,
   "id": "0e7605ff",
   "metadata": {},
   "outputs": [
    {
     "data": {
      "text/plain": [
       "0.9999999999999999"
      ]
     },
     "execution_count": 13,
     "metadata": {},
     "output_type": "execute_result"
    }
   ],
   "source": [
    "np.sum(prob)"
   ]
  },
  {
   "cell_type": "code",
   "execution_count": 15,
   "id": "72cdcaa7",
   "metadata": {},
   "outputs": [],
   "source": [
    "# 누적분포함수\n",
    "def F(x):\n",
    "    return np.sum([f(x_k) for x_k in x_set if x_k <= x])"
   ]
  },
  {
   "cell_type": "code",
   "execution_count": 17,
   "id": "3a200a68",
   "metadata": {},
   "outputs": [
    {
     "data": {
      "text/plain": [
       "0.9999999999999999"
      ]
     },
     "execution_count": 17,
     "metadata": {},
     "output_type": "execute_result"
    }
   ],
   "source": [
    "F(6)"
   ]
  },
  {
   "cell_type": "code",
   "execution_count": 18,
   "id": "6ecbd2b1",
   "metadata": {},
   "outputs": [
    {
     "data": {
      "text/plain": [
       "{5: 0.047619047619047616,\n",
       " 7: 0.09523809523809523,\n",
       " 9: 0.14285714285714285,\n",
       " 11: 0.19047619047619047,\n",
       " 13: 0.23809523809523808,\n",
       " 15: 0.2857142857142857}"
      ]
     },
     "execution_count": 18,
     "metadata": {},
     "output_type": "execute_result"
    }
   ],
   "source": [
    "# 확률변수의 변환 : 확률변수 X에 2를 곱하고 3을 더한 2X + 3도 확률변수가 된다.\n",
    "y_set = np.array([2 * x_k + 3 for x_k in x_set])\n",
    "prob = np.array([f(x_k) for x_k in x_set])\n",
    "dict(zip(y_set,prob))"
   ]
  },
  {
   "cell_type": "code",
   "execution_count": 20,
   "id": "0dcce0ff",
   "metadata": {},
   "outputs": [
    {
     "data": {
      "text/plain": [
       "4.333333333333333"
      ]
     },
     "execution_count": 20,
     "metadata": {},
     "output_type": "execute_result"
    }
   ],
   "source": [
    "# 1차원 이산형 확률변수의 지표\n",
    "# 평균 : 확률변수의 평균은 확률변수의 중심을 나타내는 지표가 되며 기댓값이라고도 부른다.\n",
    "np.sum([x_k * f(x_k) for x_k in x_set])"
   ]
  },
  {
   "cell_type": "code",
   "execution_count": 21,
   "id": "10cb1491",
   "metadata": {},
   "outputs": [
    {
     "data": {
      "text/plain": [
       "4.334233"
      ]
     },
     "execution_count": 21,
     "metadata": {},
     "output_type": "execute_result"
    }
   ],
   "source": [
    "# 확률변수의 기댓값은 확률변수를 무제한 시행하여 얻은 실현값의 평균\n",
    "sample = np.random.choice(x_set, int(1e6), p=prob)\n",
    "np.mean(sample)"
   ]
  },
  {
   "cell_type": "code",
   "execution_count": 22,
   "id": "d8e9e431",
   "metadata": {},
   "outputs": [],
   "source": [
    "# 일반화\n",
    "def E(X, g=lambda x:x):\n",
    "    x_set, f = X\n",
    "    return np.sum([g(x_k) * f(x_k) for x_k in x_set])    "
   ]
  },
  {
   "cell_type": "code",
   "execution_count": 23,
   "id": "1020ce90",
   "metadata": {},
   "outputs": [
    {
     "data": {
      "text/plain": [
       "4.333333333333333"
      ]
     },
     "execution_count": 23,
     "metadata": {},
     "output_type": "execute_result"
    }
   ],
   "source": [
    "E(X)"
   ]
  },
  {
   "cell_type": "code",
   "execution_count": 24,
   "id": "568682a2",
   "metadata": {},
   "outputs": [
    {
     "data": {
      "text/plain": [
       "11.666666666666664"
      ]
     },
     "execution_count": 24,
     "metadata": {},
     "output_type": "execute_result"
    }
   ],
   "source": [
    "E(X, g=lambda x:2*x+3)"
   ]
  },
  {
   "cell_type": "code",
   "execution_count": 25,
   "id": "84cd6b06",
   "metadata": {},
   "outputs": [
    {
     "data": {
      "text/plain": [
       "11.666666666666666"
      ]
     },
     "execution_count": 25,
     "metadata": {},
     "output_type": "execute_result"
    }
   ],
   "source": [
    "# 기댓값의 선형성\n",
    "2 * E(X) + 3"
   ]
  },
  {
   "cell_type": "code",
   "execution_count": 26,
   "id": "8d44cd80",
   "metadata": {},
   "outputs": [
    {
     "data": {
      "text/plain": [
       "2.2222222222222223"
      ]
     },
     "execution_count": 26,
     "metadata": {},
     "output_type": "execute_result"
    }
   ],
   "source": [
    "# 분산\n",
    "mean = E(X)\n",
    "np.sum([(x_k-mean)**2 * f(x_k) for x_k in x_set])"
   ]
  },
  {
   "cell_type": "code",
   "execution_count": 28,
   "id": "5d9aa0e2",
   "metadata": {},
   "outputs": [],
   "source": [
    "# 일반화\n",
    "def V(X, g = lambda x:x):\n",
    "    x_set,f = X\n",
    "    mean = E(X,g)\n",
    "    return np.sum([(g(i)-mean)**2 *f(i) for i in x_set])"
   ]
  },
  {
   "cell_type": "code",
   "execution_count": 29,
   "id": "e0e669ed",
   "metadata": {},
   "outputs": [
    {
     "data": {
      "text/plain": [
       "2.2222222222222223"
      ]
     },
     "execution_count": 29,
     "metadata": {},
     "output_type": "execute_result"
    }
   ],
   "source": [
    "V(X)"
   ]
  },
  {
   "cell_type": "code",
   "execution_count": 30,
   "id": "4a2cc5bf",
   "metadata": {},
   "outputs": [
    {
     "data": {
      "text/plain": [
       "8.88888888888889"
      ]
     },
     "execution_count": 30,
     "metadata": {},
     "output_type": "execute_result"
    }
   ],
   "source": [
    "V(X, lambda x:2*x+3)"
   ]
  },
  {
   "cell_type": "code",
   "execution_count": 31,
   "id": "c59ab3d2",
   "metadata": {},
   "outputs": [
    {
     "data": {
      "text/plain": [
       "8.88888888888889"
      ]
     },
     "execution_count": 31,
     "metadata": {},
     "output_type": "execute_result"
    }
   ],
   "source": [
    "# 분산의 공식\n",
    "2**2*V(X)"
   ]
  },
  {
   "cell_type": "code",
   "execution_count": 32,
   "id": "32ae14e1",
   "metadata": {},
   "outputs": [],
   "source": [
    "# 2차원 이산형 확률분포\n",
    "x_set = np.arange(2,13)\n",
    "y_set = np.arange(1,7)"
   ]
  },
  {
   "cell_type": "code",
   "execution_count": 33,
   "id": "16d825e7",
   "metadata": {},
   "outputs": [],
   "source": [
    "def f_XY(x,y):\n",
    "    if 1 <= y <= 6 and 1 <= x-y <= 6:\n",
    "        return y * (x-y) / 441\n",
    "    else:\n",
    "        return 0"
   ]
  },
  {
   "cell_type": "code",
   "execution_count": 34,
   "id": "7e8d04d6",
   "metadata": {},
   "outputs": [],
   "source": [
    "XY = [x_set, y_set, f_XY]"
   ]
  },
  {
   "cell_type": "code",
   "execution_count": 38,
   "id": "d681796f",
   "metadata": {},
   "outputs": [
    {
     "data": {
      "text/plain": [
       "<matplotlib.colorbar.Colorbar at 0x11b723409d0>"
      ]
     },
     "execution_count": 38,
     "metadata": {},
     "output_type": "execute_result"
    },
    {
     "data": {
      "image/png": "[encoded data removed]",
      "text/plain": [
       "<Figure size 720x576 with 2 Axes>"
      ]
     },
     "metadata": {
      "needs_background": "light"
     },
     "output_type": "display_data"
    }
   ],
   "source": [
    "prob = np.array([[f_XY(x_i,y_j) for y_j in y_set] for x_i in x_set])\n",
    "fig = plt.figure(figsize=(10,8))\n",
    "ax = fig.add_subplot(111)\n",
    "\n",
    "c = ax.pcolor(prob)\n",
    "ax.set_xticks(np.arange(prob.shape[1]) + 0.5, minor=False)\n",
    "ax.set_yticks(np.arange(prob.shape[0]) + 0.5, minor=False)\n",
    "ax.set_xticklabels(np.arange(1,7),minor=False)\n",
    "ax.set_yticklabels(np.arange(2,13),minor=False)\n",
    "# Y축을 내림차순의 숫자가 되게 하여 위아래를 역전시킨다.\n",
    "ax.invert_yaxis()\n",
    "# X축 눈금을 그래프 위쪽에 표시\n",
    "ax.xaxis.tick_top()\n",
    "fig.colorbar(c,ax=ax)           "
   ]
  },
  {
   "cell_type": "code",
   "execution_count": 39,
   "id": "94892837",
   "metadata": {},
   "outputs": [
    {
     "data": {
      "text/plain": [
       "True"
      ]
     },
     "execution_count": 39,
     "metadata": {},
     "output_type": "execute_result"
    }
   ],
   "source": [
    "np.all(prob >= 0)"
   ]
  },
  {
   "cell_type": "code",
   "execution_count": 40,
   "id": "f0b7e38a",
   "metadata": {},
   "outputs": [
    {
     "data": {
      "text/plain": [
       "1.0"
      ]
     },
     "execution_count": 40,
     "metadata": {},
     "output_type": "execute_result"
    }
   ],
   "source": [
    "np.sum(prob)"
   ]
  },
  {
   "cell_type": "code",
   "execution_count": 41,
   "id": "3019a0cb",
   "metadata": {},
   "outputs": [],
   "source": [
    "# 주변확률분포 : 확률변수 (X,Y)는 결합확류분포에 의해 동시에 정의되지만 개별 확률변수에만 흥미가 있을 수 있다.\n",
    "# 확률변수 X만의 움직임. 즉 확률변수 X의 확률함수를 알고 싶은 상황"
   ]
  },
  {
   "cell_type": "code",
   "execution_count": 42,
   "id": "ed1dd320",
   "metadata": {},
   "outputs": [],
   "source": [
    "def f_X(x):\n",
    "    return np.sum([f_XY(x,y_k) for y_k in y_set])"
   ]
  },
  {
   "cell_type": "code",
   "execution_count": 43,
   "id": "33bf902f",
   "metadata": {},
   "outputs": [],
   "source": [
    "def f_Y(y):\n",
    "    return np.sum([f_XY(x_k,y) for x_k in x_set])"
   ]
  },
  {
   "cell_type": "code",
   "execution_count": 44,
   "id": "ee12e531",
   "metadata": {},
   "outputs": [],
   "source": [
    "X = [x_set, f_X]\n",
    "Y = [y_set, f_Y]"
   ]
  },
  {
   "cell_type": "code",
   "execution_count": 45,
   "id": "ff3d7f00",
   "metadata": {},
   "outputs": [
    {
     "data": {
      "text/plain": [
       "[array([ 2,  3,  4,  5,  6,  7,  8,  9, 10, 11, 12]),\n",
       " <function __main__.f_X(x)>]"
      ]
     },
     "execution_count": 45,
     "metadata": {},
     "output_type": "execute_result"
    }
   ],
   "source": [
    "X"
   ]
  },
  {
   "cell_type": "code",
   "execution_count": 46,
   "id": "0d73d434",
   "metadata": {},
   "outputs": [
    {
     "data": {
      "text/plain": [
       "[array([1, 2, 3, 4, 5, 6]), <function __main__.f_Y(y)>]"
      ]
     },
     "execution_count": 46,
     "metadata": {},
     "output_type": "execute_result"
    }
   ],
   "source": [
    "Y"
   ]
  },
  {
   "cell_type": "code",
   "execution_count": 52,
   "id": "c14f93ba",
   "metadata": {},
   "outputs": [
    {
     "data": {
      "text/plain": [
       "Text(0, 0.5, 'probability')"
      ]
     },
     "execution_count": 52,
     "metadata": {},
     "output_type": "execute_result"
    },
    {
     "data": {
      "image/png": "[encoded data removed]",
      "text/plain": [
       "<Figure size 864x288 with 2 Axes>"
      ]
     },
     "metadata": {
      "needs_background": "light"
     },
     "output_type": "display_data"
    }
   ],
   "source": [
    "prob_x = np.array([f_X(x_k) for x_k in x_set])\n",
    "prob_y = np.array([f_Y(y_k) for y_k in y_set])\n",
    "\n",
    "fig = plt.figure(figsize=(12,4))\n",
    "ax1 = fig.add_subplot(121)\n",
    "ax2 = fig.add_subplot(122)\n",
    "\n",
    "ax1.bar(x_set,prob_x)\n",
    "ax1.set_title('X_marginal probability distribution')\n",
    "ax1.set_xlabel('X_label')\n",
    "ax1.set_ylabel('probability')\n",
    "# ax1.set_xticks(x_set)\n",
    "\n",
    "ax2.bar(y_set,prob_y)\n",
    "ax2.set_title('Y_marginal probability distribution')\n",
    "ax2.set_xlabel('Y_label')\n",
    "ax2.set_ylabel('probability')\n",
    "# ax2.set_xticks(y_set)"
   ]
  },
  {
   "cell_type": "code",
   "execution_count": 53,
   "id": "c65eda74",
   "metadata": {},
   "outputs": [
    {
     "data": {
      "text/plain": [
       "8.666666666666666"
      ]
     },
     "execution_count": 53,
     "metadata": {},
     "output_type": "execute_result"
    }
   ],
   "source": [
    "# 2차원 이산형 확률분포의 지표\n",
    "# 기댓값\n",
    "np.sum([x_i * f_XY(x_i,y_j) for x_i in x_set for y_j in y_set])"
   ]
  },
  {
   "cell_type": "code",
   "execution_count": 56,
   "id": "ca232f5e",
   "metadata": {},
   "outputs": [
    {
     "data": {
      "text/plain": [
       "8.666666666666666"
      ]
     },
     "execution_count": 56,
     "metadata": {},
     "output_type": "execute_result"
    }
   ],
   "source": [
    "# 다중 for문\n",
    "sum = 0\n",
    "for y_j in y_set:\n",
    "    for x_i in x_set:\n",
    "        sum += x_i * f_XY(x_i, y_j)\n",
    "sum"
   ]
  },
  {
   "cell_type": "code",
   "execution_count": 58,
   "id": "a4dc07fe",
   "metadata": {},
   "outputs": [],
   "source": [
    "def E(XY, g):\n",
    "    x_set, y_set ,f_XY = XY\n",
    "    return np.sum([g(x_i,y_j) * f_XY(x_i,y_j)\n",
    "                  for x_i in x_set for y_j in y_set])"
   ]
  },
  {
   "cell_type": "code",
   "execution_count": 59,
   "id": "e5c14fcc",
   "metadata": {},
   "outputs": [
    {
     "data": {
      "text/plain": [
       "8.666666666666666"
      ]
     },
     "execution_count": 59,
     "metadata": {},
     "output_type": "execute_result"
    }
   ],
   "source": [
    "mean_X = E(XY, lambda x,y:x)\n",
    "mean_X"
   ]
  },
  {
   "cell_type": "code",
   "execution_count": 60,
   "id": "82f1d114",
   "metadata": {},
   "outputs": [
    {
     "data": {
      "text/plain": [
       "4.333333333333333"
      ]
     },
     "execution_count": 60,
     "metadata": {},
     "output_type": "execute_result"
    }
   ],
   "source": [
    "mean_Y = E(XY, lambda x,y :y)\n",
    "mean_Y"
   ]
  },
  {
   "cell_type": "code",
   "execution_count": 61,
   "id": "919479bf",
   "metadata": {},
   "outputs": [],
   "source": [
    "a,b = 2,3"
   ]
  },
  {
   "cell_type": "code",
   "execution_count": 62,
   "id": "a9a39c4e",
   "metadata": {},
   "outputs": [
    {
     "data": {
      "text/plain": [
       "30.333333333333332"
      ]
     },
     "execution_count": 62,
     "metadata": {},
     "output_type": "execute_result"
    }
   ],
   "source": [
    "# 기댓값의 선형성\n",
    "E(XY, lambda x,y:a*x +b*y)"
   ]
  },
  {
   "cell_type": "code",
   "execution_count": 64,
   "id": "ef1fbd64",
   "metadata": {},
   "outputs": [
    {
     "data": {
      "text/plain": [
       "4.444444444444444"
      ]
     },
     "execution_count": 64,
     "metadata": {},
     "output_type": "execute_result"
    }
   ],
   "source": [
    "# 분산 : X의 분산이라면 X에 관한 편차 제곱의 기댓값으로 구할 수 있다.\n",
    "np.sum([(x_i-mean_X)**2 * f_XY(x_i,y_j) for x_i in x_set for y_j in y_set])"
   ]
  },
  {
   "cell_type": "code",
   "execution_count": 68,
   "id": "c54d3928",
   "metadata": {},
   "outputs": [],
   "source": [
    "# 분산의 함수\n",
    "def V(XY, g ):\n",
    "    x_set,y_set, f_XY = XY\n",
    "    mean = E(XY , g)\n",
    "    return np.sum([(g(x_i,y_j) - mean)**2 * f_XY(x_i,y_j) for x_i in x_set for y_j in y_set])"
   ]
  },
  {
   "cell_type": "code",
   "execution_count": 69,
   "id": "bc2fe0ea",
   "metadata": {},
   "outputs": [
    {
     "data": {
      "text/plain": [
       "4.444444444444444"
      ]
     },
     "execution_count": 69,
     "metadata": {},
     "output_type": "execute_result"
    }
   ],
   "source": [
    "var_X = V(XY,lambda x,y:x)\n",
    "var_X"
   ]
  },
  {
   "cell_type": "code",
   "execution_count": 71,
   "id": "ae2c8b35",
   "metadata": {},
   "outputs": [
    {
     "data": {
      "text/plain": [
       "2.2222222222222223"
      ]
     },
     "execution_count": 71,
     "metadata": {},
     "output_type": "execute_result"
    }
   ],
   "source": [
    "var_Y = V(XY,lambda x,y:y)\n",
    "var_Y"
   ]
  },
  {
   "cell_type": "code",
   "execution_count": 72,
   "id": "bdf2b0cb",
   "metadata": {},
   "outputs": [],
   "source": [
    "# 공분산\n",
    "def Cov(XY):\n",
    "    x_set, y_set, f_XY = XY\n",
    "    mean_X = E(XY, lambda x,y:x)\n",
    "    mean_Y = E(XY, lambda x,y:y)\n",
    "    return np.sum([(x_i-mean_X) * (y_j-mean_Y) * f_XY(x_i,y_j)\n",
    "                  for x_i in x_set for y_j in y_set])"
   ]
  },
  {
   "cell_type": "code",
   "execution_count": 73,
   "id": "d40be818",
   "metadata": {},
   "outputs": [
    {
     "data": {
      "text/plain": [
       "2.222222222222222"
      ]
     },
     "execution_count": 73,
     "metadata": {},
     "output_type": "execute_result"
    }
   ],
   "source": [
    "cov_xy = Cov(XY)\n",
    "cov_xy"
   ]
  },
  {
   "cell_type": "code",
   "execution_count": 74,
   "id": "a3bb6300",
   "metadata": {},
   "outputs": [
    {
     "data": {
      "text/plain": [
       "64.44444444444444"
      ]
     },
     "execution_count": 74,
     "metadata": {},
     "output_type": "execute_result"
    }
   ],
   "source": [
    "V(XY, lambda x,y:a*x + b*y)"
   ]
  },
  {
   "cell_type": "code",
   "execution_count": 76,
   "id": "4a47421e",
   "metadata": {},
   "outputs": [
    {
     "data": {
      "text/plain": [
       "64.44444444444443"
      ]
     },
     "execution_count": 76,
     "metadata": {},
     "output_type": "execute_result"
    }
   ],
   "source": [
    "# 분산과 공분산의 공식\n",
    "a**2 * var_X + b**2 * var_Y + 2*a*b * cov_xy"
   ]
  },
  {
   "cell_type": "code",
   "execution_count": 77,
   "id": "da684706",
   "metadata": {},
   "outputs": [
    {
     "data": {
      "text/plain": [
       "0.7071067811865474"
      ]
     },
     "execution_count": 77,
     "metadata": {},
     "output_type": "execute_result"
    }
   ],
   "source": [
    "# 확률변수의 상관계수 : 공분산을 각각의 표준편차로 나누어 산출\n",
    "cov_xy/ np.sqrt(var_X * var_Y)"
   ]
  },
  {
   "cell_type": "markdown",
   "id": "dc304672",
   "metadata": {},
   "source": [
    "대표적인 이산형 확률분포"
   ]
  },
  {
   "cell_type": "code",
   "execution_count": 83,
   "id": "e5c1d4be",
   "metadata": {},
   "outputs": [],
   "source": [
    "# assert : 원하는 조건의 변수 값을 보증받을 때까지 테스트\n",
    "# 그래프를 위한 사용자 함수\n",
    "import numpy as np\n",
    "import matplotlib.pyplot as plt\n",
    "from scipy import stats\n",
    "\n",
    "linestyles = ['-', '--', ':']\n",
    "\n",
    "def E(X, g=lambda x: x):\n",
    "    x_set, f = X\n",
    "    return np.sum([g(x_k) * f(x_k) for x_k in x_set])\n",
    "\n",
    "def V(X, g=lambda x:x):\n",
    "    x_set, f = X\n",
    "    mean = E(X,g)\n",
    "    return np.sum([(g(x_k)-mean)**2 * f(x_k) for x_k in x_set])\n",
    "\n",
    "def check_prob(X): # 확률분포를 인수로 가지면 기댓값과 분산 계산 결과를 반환\n",
    "    x_set, f = X\n",
    "    prob = np.array([f(x_k) for x_k in x_set])\n",
    "    assert np.all(prob >= 0), 'minus probability'\n",
    "    prob_sum = np.round(np.sum(prob), 6)\n",
    "    assert prob_sum == 1, f'sum of probability{prob_sum}'\n",
    "    print(f'expected value {E(X):.4}')\n",
    "    print(f'variance {(V(X)):.4}')\n",
    "\n",
    "def plot_prob(X): # 확률분포를 인수로 가지며 그 확률변수의 확률함수와 기댓값을 그리기 위한 함수\n",
    "    x_set, f = X\n",
    "    prob = np.array([f(x_k) for x_k in x_set])\n",
    "    fig = plt.figure(figsize=(6,4))\n",
    "    ax = fig.add_subplot(111)\n",
    "    ax.bar(x_set, prob, label ='prob')\n",
    "    ax.vlines(E(X), 0,1, label='mean',color='crimson')\n",
    "    ax.set_xticks(np.append(x_set, E(X)))\n",
    "    ax.set_ylim(0,prob.max()*1.2)\n",
    "    ax.legend()    "
   ]
  },
  {
   "cell_type": "markdown",
   "id": "e2f2b41c",
   "metadata": {},
   "source": [
    "#### 베르누이 분포\n",
    "- 가장 기본적인 이산형 확률분포로 확률변수가 취할 수 있는 값이 0과 1밖에 없는 분포이다.\n",
    "- 베르누이 분포를 따르는 확률변수의 시행을 베르누이 시행이라 하며 1이 나오면 성공, 0이 나오면 실패라고 함\n",
    "- 동전을 던져 앞면이 나올 확률, 주사위를 한 번 굴려 6이 나오지 않을 확률"
   ]
  },
  {
   "cell_type": "code",
   "execution_count": 80,
   "id": "446948ea",
   "metadata": {},
   "outputs": [],
   "source": [
    "def Bern(p):\n",
    "    x_set = np.array([0,1])\n",
    "    def f(x):\n",
    "        if x in x_set:\n",
    "            return p**x * (1-p)**(1-x)\n",
    "        else:\n",
    "            return 0\n",
    "    return x_set, f"
   ]
  },
  {
   "cell_type": "code",
   "execution_count": 81,
   "id": "defe9713",
   "metadata": {},
   "outputs": [],
   "source": [
    "p = 0.3\n",
    "X = Bern(p)"
   ]
  },
  {
   "cell_type": "code",
   "execution_count": 84,
   "id": "0454657a",
   "metadata": {},
   "outputs": [
    {
     "name": "stdout",
     "output_type": "stream",
     "text": [
      "expected value 0.3\n",
      "variance 0.21\n"
     ]
    }
   ],
   "source": [
    "check_prob(X)"
   ]
  },
  {
   "cell_type": "code",
   "execution_count": 85,
   "id": "c14f625c",
   "metadata": {},
   "outputs": [
    {
     "data": {
      "image/png": "[encoded data removed]",
      "text/plain": [
       "<Figure size 432x288 with 1 Axes>"
      ]
     },
     "metadata": {
      "needs_background": "light"
     },
     "output_type": "display_data"
    }
   ],
   "source": [
    "plot_prob(X)"
   ]
  },
  {
   "cell_type": "code",
   "execution_count": 86,
   "id": "6341c9ec",
   "metadata": {},
   "outputs": [],
   "source": [
    "rv = stats.bernoulli(p)"
   ]
  },
  {
   "cell_type": "code",
   "execution_count": 87,
   "id": "26e689e8",
   "metadata": {},
   "outputs": [
    {
     "data": {
      "text/plain": [
       "(0.7, 0.3)"
      ]
     },
     "execution_count": 87,
     "metadata": {},
     "output_type": "execute_result"
    }
   ],
   "source": [
    "rv.pmf(0), rv.pmf(1)"
   ]
  },
  {
   "cell_type": "code",
   "execution_count": 88,
   "id": "3ec12d39",
   "metadata": {},
   "outputs": [
    {
     "data": {
      "text/plain": [
       "array([0.7, 0.3])"
      ]
     },
     "execution_count": 88,
     "metadata": {},
     "output_type": "execute_result"
    }
   ],
   "source": [
    "rv.pmf([0,1])"
   ]
  },
  {
   "cell_type": "code",
   "execution_count": 89,
   "id": "52002b70",
   "metadata": {},
   "outputs": [
    {
     "data": {
      "text/plain": [
       "array([0.7, 1. ])"
      ]
     },
     "execution_count": 89,
     "metadata": {},
     "output_type": "execute_result"
    }
   ],
   "source": [
    "rv.cdf([0,1])"
   ]
  },
  {
   "cell_type": "code",
   "execution_count": 90,
   "id": "91013b3a",
   "metadata": {},
   "outputs": [
    {
     "data": {
      "text/plain": [
       "(0.3, 0.21)"
      ]
     },
     "execution_count": 90,
     "metadata": {},
     "output_type": "execute_result"
    }
   ],
   "source": [
    "rv.mean(), rv.var()"
   ]
  },
  {
   "cell_type": "markdown",
   "id": "581e27da",
   "metadata": {},
   "source": [
    "#### 이항분포\n",
    "- 성공확률이 p인 베르누이 시행을 n번 했을 때의 성공 횟수가 따르는 분포\n",
    "\n",
    "f(x) = $_{n}\\mathrm{C}_{x}p^x(1-p)^{n-x}$ $(x \\in \\{0,1,..,n\\}$)\n",
    "\n",
    "       0              (otherwise)"
   ]
  },
  {
   "cell_type": "code",
   "execution_count": null,
   "id": "5939fa86",
   "metadata": {},
   "outputs": [],
   "source": [
    "# [과제] 사용자 함수\n",
    "from scipy.special import comb\n",
    "\n",
    "def Bin(n,p):"
   ]
  },
  {
   "cell_type": "code",
   "execution_count": null,
   "id": "1676a4f6",
   "metadata": {},
   "outputs": [],
   "source": [
    "# [과제] 동전을 10번 던져 앞면이 3번 나오는 확률의 이항분포의 기대값과 분산을 구하세요."
   ]
  },
  {
   "cell_type": "code",
   "execution_count": null,
   "id": "7aa9e771",
   "metadata": {},
   "outputs": [],
   "source": [
    "# [과제] 상기 이항분포의 확률함수와 기댓값을 시각화 하세요."
   ]
  },
  {
   "cell_type": "code",
   "execution_count": null,
   "id": "119d12a6",
   "metadata": {},
   "outputs": [],
   "source": [
    "# [과제] 확률이 0.3, 0.5, 0.7로 변할 때 확률함수가 변화는 모습을 시각화 하세요"
   ]
  },
  {
   "cell_type": "markdown",
   "id": "0b69c1cb",
   "metadata": {},
   "source": [
    "#### 기하분포\n",
    "- 베르누이 시행에서 처음 성공할 때까지 반복한 시행 횟수가 따르는 분포\n",
    "- 기하분포의 파라미터는 베르누이 시행의 성공 확률 파라미터 p가 되며 파라미터 p의 기하분포를 Ge(p)로 표기\n",
    "\n",
    "f(x) = $(1-p)^{x-1}p$ $(x \\in \\{1,2,3...\\})$\n",
    "\n",
    "       0             (otherwise)\n",
    "- 기하분포의 기댓값과 분산 : E(X) = 1/p, V(X) = (1-p)/$p^2$"
   ]
  },
  {
   "cell_type": "code",
   "execution_count": null,
   "id": "3c2e9661",
   "metadata": {},
   "outputs": [],
   "source": [
    "# [과제] 사용자 함수를 구하세요.(단, 확를변수를 1 이상 29 이하인 정수으로 설정)\n",
    "def Ge(p):\n",
    "    "
   ]
  },
  {
   "cell_type": "code",
   "execution_count": null,
   "id": "c1a214e1",
   "metadata": {},
   "outputs": [],
   "source": [
    "# [과제] 성공확률이 0.5일때 기하분포의 기댓값과 분산을 구하세요."
   ]
  },
  {
   "cell_type": "code",
   "execution_count": null,
   "id": "0d5be09f",
   "metadata": {},
   "outputs": [],
   "source": [
    "# [과제] 상기 기하분포의 확률함수와 기댓값을 시각화 하세요."
   ]
  },
  {
   "cell_type": "code",
   "execution_count": null,
   "id": "19b1b7c4",
   "metadata": {},
   "outputs": [],
   "source": [
    "# [과제] 성공확률이 0.2, 0.5, 0.8로 변할 때 확률함수가 변화는 모습을 시각화 하세요"
   ]
  },
  {
   "cell_type": "markdown",
   "id": "97a4d51d",
   "metadata": {},
   "source": [
    "#### 포아송 분포\n",
    "- 임의의 사건이 단위 시간당 발생하는 건수가 따르는 확률분포이며 포아송 분포의 파라미터는 $\\lambda$로 나타낸다.\n",
    "- 하루에 평균 2건의 교통사고가 발생하는 지역에서 하루 교통사고 발생건수는 Poi(2)를 따른다.  \n",
    "예) 하루에 교통사고가 한 건도 일어나지 않을 확률 : P(X=0) = 2!/0! * $e^{-2}$ = 0.135\n",
    "\n",
    "- 포아송 분포의 기댓값과 분산은 모두 $\\lambda$가 된다.\n",
    "\n",
    "f(x) = $\\lambda^x/x!*e^{-\\lambda}$ $(x \\in \\{0,1,2,...\\})$\n",
    "\n",
    "        0                (otherwise)"
   ]
  },
  {
   "cell_type": "code",
   "execution_count": null,
   "id": "23959049",
   "metadata": {},
   "outputs": [],
   "source": [
    "# [과제] 사용자 함수를 구하세요.(단, 확를변수를 1 이상 19 이하인 정수으로 설정)\n",
    "def Poi(lam):"
   ]
  },
  {
   "cell_type": "code",
   "execution_count": null,
   "id": "33e40724",
   "metadata": {},
   "outputs": [],
   "source": [
    "# [과제] 𝜆 가 0.3일때 포아송분포의 기댓값과 분산을 구하세요."
   ]
  },
  {
   "cell_type": "code",
   "execution_count": null,
   "id": "a865cd25",
   "metadata": {},
   "outputs": [],
   "source": [
    "# [과제] 상기 포아송분포의 확률함수와 기댓값을 시각화 하세요."
   ]
  },
  {
   "cell_type": "code",
   "execution_count": null,
   "id": "4f685188",
   "metadata": {},
   "outputs": [],
   "source": [
    "# [과제]  𝜆 가  3, 5, 8로 변할 때 확률함수가 변화는 모습을 시각화 하세요"
   ]
  },
  {
   "cell_type": "code",
   "execution_count": null,
   "id": "d75e80e8",
   "metadata": {},
   "outputs": [],
   "source": [
    "# [과제] 베르누이, 이항, 기하, 포아송분포의 사례를 각각 2개씩 제시 및 설명 하세요."
   ]
  }
 ],
 "metadata": {
  "kernelspec": {
   "display_name": "Python 3 (ipykernel)",
   "language": "python",
   "name": "python3"
  },
  "language_info": {
   "codemirror_mode": {
    "name": "ipython",
    "version": 3
   },
   "file_extension": ".py",
   "mimetype": "text/x-python",
   "name": "python",
   "nbconvert_exporter": "python",
   "pygments_lexer": "ipython3",
   "version": "3.8.12"
  }
 },
 "nbformat": 4,
 "nbformat_minor": 5
}
