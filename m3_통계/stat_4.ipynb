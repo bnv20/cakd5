{
 "cells": [
  {
   "cell_type": "markdown",
   "id": "45f74c5f",
   "metadata": {},
   "source": [
    "#### 독립동일분포\n",
    "- 확률변수가 서로 독립이라는 것은 확률변수가 다른 확률변수에 영향을 끼치지 않는다는 의미이다.\n",
    "- 통계분석에서 취급하는 데이터 중 상당수가 독립이면서 다차원인 확률변수의 실현값으로 간주될 수 있다.\n",
    "- 서로 독립이고 각각 동일한 확률분포를 따르는 다차원 확률변수를 독립동일분포라 한다.\n",
    "\n",
    "#### 독립성\n",
    "- 2개 이상의 확률변수가 서로 영향을 끼치지 않으며 관계가 없음을 나타내는 개념\n",
    "- 2차원 확률변수 (X,Y)의 경우 다음과 같은 관계가 성립할 때 X,Y는 독립이라고 함  \n",
    "$f_{X,Y}(x,y) = f_X(x)f_Y(y)$\n",
    "- 확률변수가 독립일 때 결합확률은 주변확률의 곱으로 작성할 수 있다.\n",
    "- 일반화 : $f_{X_1,X_2,...X_n}(x_1,x_2,...,x_n) = f_{X_1}(x_1)f_{X_2}(x_2)...f_{X_n}(x_n)$\n",
    "\n",
    "※ 함수 f가 이산형이면 확률함수, 연속형이면 밀도함수를 나타냄\n"
   ]
  },
  {
   "cell_type": "markdown",
   "id": "363df474",
   "metadata": {},
   "source": [
    "#### 독립성과 무상관성\n",
    "- 공분산이나 상관계수가 0일 때 무상관이라 하고 두 확률변수 사이에는 상관성, 즉 선형관계가 없음을 나타냄\n",
    "- 독립성도 무상관성도 두 확률변수가 서로 관계가 없다는 것을 나타내는 성질이다.\n",
    "  * 무상관성보다 독립성이 더 강한 개념\n",
    "  * 2개의 확률변수 X와 Y가 독립일 때 X와 Y는 무상관이 되지만 X와 Y가 무상관일 때 X와 Y가 반드시 독립인 것은 아님"
   ]
  },
  {
   "cell_type": "code",
   "execution_count": 5,
   "id": "8d97788a",
   "metadata": {},
   "outputs": [],
   "source": [
    "import numpy as np\n",
    "import matplotlib.pyplot as plt\n",
    "from scipy import stats\n",
    "\n",
    "linestyles = ['-','--',':','-.']\n",
    "\n",
    "def E(XY,g):\n",
    "    x_set, y_set, f_XY = XY\n",
    "    return np.sum([g(x_i,y_j) * f_XY(x_i,y_j)\n",
    "                  for x_i in x_set for y_j in y_set])\n",
    "\n",
    "def Cov(XY):\n",
    "    x_set, y_set,f_XY = XY\n",
    "    mean_X = E(XY,lambda x,y:x)\n",
    "    mean_Y = E(XY, lambda x,y:y)\n",
    "    return np.sum([(x_i-mean_X) * (y_j-mean_Y) * f_XY(x_i,y_j)\n",
    "                  for x_i in x_set for y_j in y_set])\n",
    "\n",
    "def f_X(x):\n",
    "    return np.sum([f_XY(x,y_k) for y_k in y_set])\n",
    "\n",
    "def f_Y(y):\n",
    "    return np.sum([f_XY(x_k,y) for x_k in x_set])"
   ]
  },
  {
   "cell_type": "code",
   "execution_count": 2,
   "id": "ca1d8513",
   "metadata": {},
   "outputs": [],
   "source": [
    "# 불공정한 주사위(교재 p130)\n",
    "\n",
    "x_set = np.arange(1,7)\n",
    "y_set = np.arange(1,7)\n",
    "\n",
    "def f_XY(x,y):\n",
    "    if x in x_set and y in y_set:\n",
    "        return x*y/441\n",
    "    else:\n",
    "        return 0\n",
    "XY = [x_set,y_set,f_XY]"
   ]
  },
  {
   "cell_type": "code",
   "execution_count": 6,
   "id": "1412239f",
   "metadata": {},
   "outputs": [
    {
     "data": {
      "text/plain": [
       "-8.326672684688674e-17"
      ]
     },
     "execution_count": 6,
     "metadata": {},
     "output_type": "execute_result"
    }
   ],
   "source": [
    "#  2차원 확률변수 X와 Y는 독립\n",
    "# 공분산이 0이므로 무상관인 것을 알 수 있음\n",
    "Cov(XY)"
   ]
  },
  {
   "cell_type": "code",
   "execution_count": 7,
   "id": "fb4852d5",
   "metadata": {},
   "outputs": [],
   "source": [
    "# 무상관인 2개의 확률변수 생각해보자\n",
    "x_set = np.array([0,1])\n",
    "y_set = np.array([-1,0,1])\n",
    "\n",
    "def f_XY(x,y):\n",
    "    if (x,y) in [(0,0),(1,1),(1,-1)]:\n",
    "        return 1/3\n",
    "    else:\n",
    "        return 0\n",
    "    \n",
    "XY = [x_set,y_set, f_XY]        "
   ]
  },
  {
   "cell_type": "code",
   "execution_count": 8,
   "id": "d8f8b72f",
   "metadata": {},
   "outputs": [
    {
     "data": {
      "text/plain": [
       "0.0"
      ]
     },
     "execution_count": 8,
     "metadata": {},
     "output_type": "execute_result"
    }
   ],
   "source": [
    "# 공분산은 0이므로 확률변수 X,Y는 무상관\n",
    "Cov(XY)"
   ]
  },
  {
   "cell_type": "code",
   "execution_count": 9,
   "id": "78d59bc8",
   "metadata": {},
   "outputs": [
    {
     "data": {
      "text/plain": [
       "(0.3333333333333333, 0.1111111111111111)"
      ]
     },
     "execution_count": 9,
     "metadata": {},
     "output_type": "execute_result"
    }
   ],
   "source": [
    "# 독립성의 정의는 𝑓𝑋,𝑌(𝑥,𝑦)=𝑓𝑋(𝑥)𝑓𝑌(𝑦)가 성립할 때인데 이 경우 성립여부 확인\n",
    "# 무상관이어도 독립성이 성립하지 않는 경우가 있다는 것을 확인\n",
    "f_XY(0,0), f_X(0) * f_Y(0)"
   ]
  },
  {
   "cell_type": "code",
   "execution_count": null,
   "id": "bab35357",
   "metadata": {},
   "outputs": [],
   "source": []
  },
  {
   "cell_type": "code",
   "execution_count": null,
   "id": "b747f09c",
   "metadata": {},
   "outputs": [],
   "source": []
  }
 ],
 "metadata": {
  "kernelspec": {
   "display_name": "Python 3 (ipykernel)",
   "language": "python",
   "name": "python3"
  },
  "language_info": {
   "codemirror_mode": {
    "name": "ipython",
    "version": 3
   },
   "file_extension": ".py",
   "mimetype": "text/x-python",
   "name": "python",
   "nbconvert_exporter": "python",
   "pygments_lexer": "ipython3",
   "version": "3.8.12"
  }
 },
 "nbformat": 4,
 "nbformat_minor": 5
}
