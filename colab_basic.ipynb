{
  "nbformat": 4,
  "nbformat_minor": 0,
  "metadata": {
    "colab": {
      "name": "colab_basic.ipynb",
      "provenance": [],
      "machine_shape": "hm",
      "mount_file_id": "1BXuZ6eph2LgH_BN_rHTemiaKa8KYqjVt",
      "authorship_tag": "ABX9TyMyqlXweHrDdnLDzVf2Z2iJ",
      "include_colab_link": true
    },
    "kernelspec": {
      "name": "python3",
      "display_name": "Python 3"
    },
    "language_info": {
      "name": "python"
    },
    "accelerator": "TPU"
  },
  "cells": [
    {
      "cell_type": "markdown",
      "metadata": {
        "id": "view-in-github",
        "colab_type": "text"
      },
      "source": [
        "<a href=\"https://colab.research.google.com/github/bnv20/cakd5/blob/main/colab_basic.ipynb\" target=\"_parent\"><img src=\"https://colab.research.google.com/assets/colab-badge.svg\" alt=\"Open In Colab\"/></a>"
      ]
    },
    {
      "cell_type": "code",
      "execution_count": null,
      "metadata": {
        "id": "OoRgr_pHAnQW"
      },
      "outputs": [],
      "source": [
        ""
      ]
    }
  ]
}